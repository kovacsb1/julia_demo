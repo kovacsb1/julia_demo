{
 "cells": [
  {
   "attachments": {
    "image.png": {
     "image/png": "[encoded data removed]"
    }
   },
   "cell_type": "markdown",
   "metadata": {
    "slideshow": {
     "slide_type": "slide"
    }
   },
   "source": [
    "# The Julia programming language\n",
    "![image.png](attachment:image.png)"
   ]
  },
  {
   "attachments": {},
   "cell_type": "markdown",
   "metadata": {
    "slideshow": {
     "slide_type": "slide"
    }
   },
   "source": [
    "## What is Julia?\n",
    "\n",
    "* first published in 2012\n",
    "* general purpuse language, designed for scientific computing\n",
    "* Julia is compiled, not interpreted\n",
    "* has package manager with 7,400 packages (Python has more than 200,000)\n"
   ]
  },
  {
   "cell_type": "markdown",
   "metadata": {
    "slideshow": {
     "slide_type": "slide"
    }
   },
   "source": [
    "## The basics"
   ]
  },
  {
   "cell_type": "code",
   "execution_count": null,
   "metadata": {
    "slideshow": {
     "slide_type": "subslide"
    }
   },
   "outputs": [],
   "source": [
    "# variables\n",
    "x = 10\n",
    "x + 1"
   ]
  },
  {
   "cell_type": "code",
   "execution_count": 1,
   "metadata": {
    "slideshow": {
     "slide_type": "subslide"
    }
   },
   "outputs": [
    {
     "name": "stdout",
     "output_type": "stream",
     "text": [
      "All strings are fstrings, using the $ symbol\n",
      "' indicates a character, so the type of the first variable is:Char\n",
      "\" indicates a string, so the type of the second variable is: String\n",
      "string concatenation is done with *, the result is: xyz\n"
     ]
    }
   ],
   "source": [
    "# strings\n",
    "ch = 'x'\n",
    "str = \"x\"\n",
    "\n",
    "println(\"All strings are fstrings, using the \\$ symbol\")\n",
    "println(\"\\' indicates a character, so the type of the first variable is:$(typeof(ch))\")\n",
    "println(\"\\\" indicates a string, so the type of the second variable is: $(typeof(str))\")\n",
    "    \n",
    "str2 = \"yz\"\n",
    "concatenated = str * str2\n",
    "println(\"string concatenation is done with *, the result is: $concatenated\")"
   ]
  },
  {
   "cell_type": "code",
   "execution_count": null,
   "metadata": {
    "slideshow": {
     "slide_type": "subslide"
    }
   },
   "outputs": [],
   "source": [
    "# function declarations\n",
    "function f(x,y)\n",
    "   x + y\n",
    "end\n",
    "\n",
    "# anonymus funciton\n",
    "g = (x,y) -> x + y\n",
    "g(5,6)"
   ]
  },
  {
   "cell_type": "code",
   "execution_count": 2,
   "metadata": {},
   "outputs": [
    {
     "name": "stdout",
     "output_type": "stream",
     "text": [
      "1\n",
      "2\n",
      "3\n",
      "4\n",
      "5\n",
      "x is less than y\n",
      "less than\n"
     ]
    }
   ],
   "source": [
    "# control flow\n",
    "for i = 1:5\n",
    "   println(i)\n",
    "end\n",
    "\n",
    "# expression blocks with ;\n",
    "z = (x = 1; y = 2; x + y)\n",
    "\n",
    "# if statement\n",
    "if x < y\n",
    "    println(\"x is less than y\")\n",
    "elseif x > y\n",
    "    println(\"x is greater than y\")\n",
    "else\n",
    "    println(\"x is equal to y\")\n",
    "end\n",
    "\n",
    "# ternary operator\n",
    "println(x < y ? \"less than\" : \"not less than\")"
   ]
  },
  {
   "cell_type": "markdown",
   "metadata": {
    "slideshow": {
     "slide_type": "slide"
    }
   },
   "source": [
    "## The features of Julia"
   ]
  },
  {
   "attachments": {},
   "cell_type": "markdown",
   "metadata": {
    "slideshow": {
     "slide_type": "slide"
    }
   },
   "source": [
    "### The type system\n",
    "* Julia is not pure OoP language, but supports inheritance and interfaces\n",
    "* functions are not attached to a type\n",
    "* base type is `Any`, base numeric type is `Number`\n",
    "* can create custom types with `struct` keyword\n",
    "* Julia is dynamically typed, but can add types to increase performance\n",
    "* it is possible to add type annotations"
   ]
  },
  {
   "cell_type": "markdown",
   "metadata": {
    "slideshow": {
     "slide_type": "skip"
    }
   },
   "source": [
    "#### Type annotation example"
   ]
  },
  {
   "cell_type": "code",
   "execution_count": 6,
   "metadata": {
    "slideshow": {
     "slide_type": "skip"
    }
   },
   "outputs": [
    {
     "data": {
      "text/plain": [
       "sinc (generic function with 2 methods)"
      ]
     },
     "execution_count": 6,
     "metadata": {},
     "output_type": "execute_result"
    }
   ],
   "source": [
    "function sinc(x::Float64)::Float64\n",
    "    if x == 0\n",
    "        return 1\n",
    "    end\n",
    "    return sin(pi*x)/(pi*x)\n",
    "end"
   ]
  },
  {
   "cell_type": "code",
   "execution_count": 4,
   "metadata": {
    "slideshow": {
     "slide_type": "skip"
    }
   },
   "outputs": [
    {
     "data": {
      "text/plain": [
       "3.8981718325193755e-17"
      ]
     },
     "execution_count": 4,
     "metadata": {},
     "output_type": "execute_result"
    }
   ],
   "source": [
    "sinc(3.)"
   ]
  },
  {
   "cell_type": "code",
   "execution_count": 5,
   "metadata": {
    "slideshow": {
     "slide_type": "skip"
    }
   },
   "outputs": [
    {
     "data": {
      "text/plain": [
       "3.8981718325193755e-17"
      ]
     },
     "execution_count": 5,
     "metadata": {},
     "output_type": "execute_result"
    }
   ],
   "source": [
    "sinc(3)"
   ]
  },
  {
   "cell_type": "markdown",
   "metadata": {
    "slideshow": {
     "slide_type": "subslide"
    }
   },
   "source": [
    "#### Custom type example"
   ]
  },
  {
   "cell_type": "code",
   "execution_count": null,
   "metadata": {
    "slideshow": {
     "slide_type": "fragment"
    }
   },
   "outputs": [],
   "source": [
    "## AoC #7\n",
    "mutable struct FileTreeNode \n",
    "    name::String\n",
    "    size::Int\n",
    "    children::Vector{FileTreeNode}\n",
    "    parent::Union{Nothing,FileTreeNode}\n",
    "end;"
   ]
  },
  {
   "attachments": {},
   "cell_type": "markdown",
   "metadata": {
    "slideshow": {
     "slide_type": "subslide"
    }
   },
   "source": [
    "#### Container types\n",
    "* multi dimensional array type: `Array`\n",
    "* type alias for 1d array is `Vector`, and for 2d array, `Matrix`\n",
    "* comprehensions and generators are supported similarly to Python\n",
    "* Arrays with elements of type `Any` are like Python lists\n",
    "* for performnace reasons, it is advised to use them with concrete types "
   ]
  },
  {
   "cell_type": "code",
   "execution_count": 7,
   "metadata": {
    "slideshow": {
     "slide_type": "fragment"
    }
   },
   "outputs": [
    {
     "data": {
      "text/plain": [
       "3-element Vector{Int64}:\n",
       " 1\n",
       " 2\n",
       " 3"
      ]
     },
     "execution_count": 7,
     "metadata": {},
     "output_type": "execute_result"
    }
   ],
   "source": [
    "### creating simple array\n",
    "simple_array = [1,2,3]\n",
    "simple_array\n"
   ]
  },
  {
   "cell_type": "code",
   "execution_count": 8,
   "metadata": {},
   "outputs": [
    {
     "data": {
      "text/plain": [
       "3×2 Matrix{Float64}:\n",
       " 1.0  1.0\n",
       " 1.0  1.0\n",
       " 1.0  1.0"
      ]
     },
     "execution_count": 8,
     "metadata": {},
     "output_type": "execute_result"
    }
   ],
   "source": [
    "array_of_ones = ones((3,2))\n",
    "array_of_ones"
   ]
  },
  {
   "cell_type": "code",
   "execution_count": 9,
   "metadata": {},
   "outputs": [
    {
     "data": {
      "text/plain": [
       "6-element Vector{Int64}:\n",
       " 1\n",
       " 2\n",
       " 4\n",
       " 5\n",
       " 7\n",
       " 8"
      ]
     },
     "execution_count": 9,
     "metadata": {},
     "output_type": "execute_result"
    }
   ],
   "source": [
    "# vertical concatenation\n",
    "[1:2; 4:5;7:8]"
   ]
  },
  {
   "cell_type": "code",
   "execution_count": 12,
   "metadata": {
    "slideshow": {
     "slide_type": "fragment"
    }
   },
   "outputs": [
    {
     "ename": "LoadError",
     "evalue": "ArgumentError: number of rows of each array must match (got (2, 2, 4))",
     "output_type": "error",
     "traceback": [
      "ArgumentError: number of rows of each array must match (got (2, 2, 4))",
      "",
      "Stacktrace:",
      " [1] _typed_hcat(#unused#::Type{Int64}, A::Tuple{UnitRange{Int64}, UnitRange{Int64}, UnitRange{Int64}})",
      "   @ Base .\\abstractarray.jl:1599",
      " [2] typed_hcat",
      "   @ .\\abstractarray.jl:1586 [inlined]",
      " [3] hcat(::UnitRange{Int64}, ::UnitRange{Int64}, ::UnitRange{Int64})",
      "   @ Base .\\abstractarray.jl:1589",
      " [4] top-level scope",
      "   @ In[12]:2",
      " [5] eval",
      "   @ .\\boot.jl:368 [inlined]",
      " [6] include_string(mapexpr::typeof(REPL.softscope), mod::Module, code::String, filename::String)",
      "   @ Base .\\loading.jl:1428"
     ]
    }
   ],
   "source": [
    "# horizontal concatenation\n",
    "[1:2  4:5  7:10]"
   ]
  },
  {
   "cell_type": "code",
   "execution_count": 11,
   "metadata": {
    "slideshow": {
     "slide_type": "fragment"
    }
   },
   "outputs": [
    {
     "data": {
      "text/plain": [
       "1×4 Matrix{Int64}:\n",
       " 1  2  3  4"
      ]
     },
     "execution_count": 11,
     "metadata": {},
     "output_type": "execute_result"
    }
   ],
   "source": [
    "# horizontal concatenation\n",
    "[1;; 2;; 3;; 4]"
   ]
  },
  {
   "cell_type": "code",
   "execution_count": 13,
   "metadata": {
    "slideshow": {
     "slide_type": "subslide"
    }
   },
   "outputs": [
    {
     "data": {
      "text/plain": [
       "10-element Vector{Int64}:\n",
       "   1\n",
       "   4\n",
       "   9\n",
       "  16\n",
       "  25\n",
       "  36\n",
       "  49\n",
       "  64\n",
       "  81\n",
       " 100"
      ]
     },
     "execution_count": 13,
     "metadata": {},
     "output_type": "execute_result"
    }
   ],
   "source": [
    "# indexing starts from one, end is covered in range\n",
    "arr = [i^2 for i in 1:10]\n",
    "arr[1:end]"
   ]
  },
  {
   "cell_type": "code",
   "execution_count": 14,
   "metadata": {
    "slideshow": {
     "slide_type": "fragment"
    }
   },
   "outputs": [
    {
     "data": {
      "text/plain": [
       "3×4 Matrix{Int64}:\n",
       " 1  4  7  10\n",
       " 2  5  8  11\n",
       " 3  6  9  12"
      ]
     },
     "execution_count": 14,
     "metadata": {},
     "output_type": "execute_result"
    }
   ],
   "source": [
    "# multidimensional arrays are in column major order\n",
    "a = [i for i in 1:12]\n",
    "reshape(a, (3,4))"
   ]
  },
  {
   "cell_type": "code",
   "execution_count": null,
   "metadata": {
    "slideshow": {
     "slide_type": "fragment"
    }
   },
   "outputs": [],
   "source": [
    "# Python\n",
    "import numpy as np\n",
    "a = a = np.arange(1,13) \n",
    "a.reshape((3,4))\n",
    "# Output:\n",
    "# array([[ 1,  2,  3,  4],\n",
    "#       [ 5,  6,  7,  8],\n",
    "#       [ 9, 10, 11, 12]])"
   ]
  },
  {
   "attachments": {},
   "cell_type": "markdown",
   "metadata": {
    "slideshow": {
     "slide_type": "slide"
    }
   },
   "source": [
    "### Multiple dispatch\n",
    "\n",
    "Multiple dispatch is a way of polymorphism, runtime subtype-based.\n",
    "Deciding which version of a function to execute is based on the runtime type of more than one object.\n",
    "\n",
    "Advantages\n",
    "* enables implementing general algorithms that are able to work with multiple types\n",
    "* enables type specific optimalizations for implementations\n",
    "\n",
    "Disadvantages:\n",
    "* can lead to longer compilation times\n",
    "* can lead to more code\n",
    "\n"
   ]
  },
  {
   "cell_type": "code",
   "execution_count": null,
   "metadata": {},
   "outputs": [],
   "source": [
    "using LinearAlgebra\n",
    "\n",
    "# Define a distance function that works with two arguments of any type\n",
    "function distance(a::T, b::T) where T\n",
    "    error(\"Unsupported type\")\n",
    "end\n",
    "\n",
    "# Specialize the distance function for two vectors\n",
    "function distance(a::Vector{T}, b::Vector{T}) where T\n",
    "    norm(a - b)\n",
    "end\n",
    "\n",
    "# Specialize the distance function for two points\n",
    "function distance(a::Tuple{T, T}, b::Tuple{T, T}) where T\n",
    "    sqrt((a[1] - b[1])^2 + (a[2] - b[2])^2)\n",
    "end\n",
    "\n",
    "# Example usage:\n",
    "v1 = [1, 2, 3]\n",
    "v2 = [4, 5, 6]\n",
    "p1 = (1, 2)\n",
    "p2 = (3, 4)\n",
    "\n",
    "println(distance(v1, v2)) \n",
    "println(distance(p1, p2)) "
   ]
  },
  {
   "cell_type": "code",
   "execution_count": null,
   "metadata": {},
   "outputs": [],
   "source": [
    "import math\n",
    "\n",
    "def distance(a, b):\n",
    "    if type(a) == list and type(b) == list:\n",
    "        return math.sqrt(sum([(a[i] - b[i]) ** 2 for i in range(len(a))]))\n",
    "    elif type(a) == tuple and type(b) == tuple:\n",
    "        return math.sqrt((a[0] - b[0]) ** 2 + (a[1] - b[1]) ** 2)\n",
    "    else:\n",
    "        raise ValueError(\"Unsupported type\")\n",
    "\n",
    "v1 = [1, 2, 3]\n",
    "v2 = [4, 5, 6]\n",
    "p1 = (1, 2)\n",
    "p2 = (3, 4)\n",
    "\n",
    "print(distance(v1, v2)) \n",
    "print(distance(p1, p2))\n"
   ]
  },
  {
   "cell_type": "markdown",
   "metadata": {},
   "source": [
    "### Broadcasting\n",
    "* broadcasting allows to do elementwise operations on array of different sizes, such as adding a constant to a vector\n",
    "* not automatic, explicitly need to do it\n",
    "* can be done by adding `.` to function call\n"
   ]
  },
  {
   "cell_type": "code",
   "execution_count": 15,
   "metadata": {},
   "outputs": [
    {
     "data": {
      "text/plain": [
       "5×3 Matrix{Float64}:\n",
       " 0.909744   0.83292    0.755904\n",
       " 0.704228   0.697162   0.384154\n",
       " 0.222447   0.0325489  0.277696\n",
       " 0.209216   0.818214   0.185325\n",
       " 0.0328992  0.953195   0.3088"
      ]
     },
     "execution_count": 15,
     "metadata": {},
     "output_type": "execute_result"
    }
   ],
   "source": [
    "using Statistics\n",
    "arr = rand(5,3)"
   ]
  },
  {
   "cell_type": "code",
   "execution_count": 16,
   "metadata": {},
   "outputs": [
    {
     "data": {
      "text/plain": [
       "1×3 Matrix{Float64}:\n",
       " 0.415707  0.666808  0.382376"
      ]
     },
     "execution_count": 16,
     "metadata": {},
     "output_type": "execute_result"
    }
   ],
   "source": [
    "means = mean(arr, dims = 1)"
   ]
  },
  {
   "cell_type": "code",
   "execution_count": 18,
   "metadata": {},
   "outputs": [
    {
     "data": {
      "text/plain": [
       "5×3 Matrix{Float64}:\n",
       "  0.494037   0.166112    0.373528\n",
       "  0.288521   0.0303538   0.00177826\n",
       " -0.19326   -0.634259   -0.10468\n",
       " -0.206491   0.151406   -0.19705\n",
       " -0.382808   0.286387   -0.073576"
      ]
     },
     "execution_count": 18,
     "metadata": {},
     "output_type": "execute_result"
    }
   ],
   "source": [
    "# center columns around zero\n",
    "arr .- means"
   ]
  },
  {
   "cell_type": "code",
   "execution_count": 17,
   "metadata": {},
   "outputs": [
    {
     "data": {
      "text/plain": [
       "2-element Vector{Float32}:\n",
       " 1.0\n",
       " 2.0"
      ]
     },
     "execution_count": 17,
     "metadata": {},
     "output_type": "execute_result"
    }
   ],
   "source": [
    "#broadcasting can also be used in function calls\n",
    "convert.(Float32, [1, 2])"
   ]
  },
  {
   "cell_type": "code",
   "execution_count": 20,
   "metadata": {},
   "outputs": [
    {
     "data": {
      "text/plain": [
       "1×3 Matrix{Int64}:\n",
       " 1  2  3"
      ]
     },
     "execution_count": 20,
     "metadata": {},
     "output_type": "execute_result"
    }
   ],
   "source": [
    "# multiplcation table\n",
    "permutedims(Array(1:3))"
   ]
  },
  {
   "cell_type": "markdown",
   "metadata": {
    "slideshow": {
     "slide_type": "slide"
    }
   },
   "source": [
    "### Parallelism capabilities\n",
    "* builtin support for paralell computing\n",
    "* more refined capabilities compared to Python \n",
    "\n",
    "Ways of parallel computing in Julia\n",
    "* asynchronous coroutines\n",
    "* multi threading\n",
    "* distributed computing - using `Distributed` library\n",
    "* GPU computing"
   ]
  },
  {
   "cell_type": "code",
   "execution_count": 21,
   "metadata": {},
   "outputs": [
    {
     "data": {
      "text/plain": [
       "10-element Vector{Float64}:\n",
       " 1.0\n",
       " 1.0\n",
       " 1.0\n",
       " 1.0\n",
       " 1.0\n",
       " 1.0\n",
       " 1.0\n",
       " 1.0\n",
       " 1.0\n",
       " 1.0"
      ]
     },
     "execution_count": 21,
     "metadata": {},
     "output_type": "execute_result"
    }
   ],
   "source": [
    "# simple multithreading example\n",
    "a = zeros(10)\n",
    "Threads.@threads for i = 1:10\n",
    "   a[i] = Threads.threadid()\n",
    "end\n",
    "\n",
    "a"
   ]
  },
  {
   "cell_type": "markdown",
   "metadata": {
    "slideshow": {
     "slide_type": "slide"
    }
   },
   "source": [
    "### Data Visualization\n"
   ]
  },
  {
   "cell_type": "code",
   "execution_count": 22,
   "metadata": {},
   "outputs": [
    {
     "data": {
      "image/svg+xml": "<?xml version=\"1.0\" encoding=\"utf-8\"?>\n<svg xmlns=\"http://www.w3.org/2000/svg\" xmlns:xlink=\"http://www.w3.org/1999/xlink\" width=\"600\" height=\"400\" viewBox=\"0 0 2400 1600\">\n<defs>\n  <clipPath id=\"clip320\">\n    <rect x=\"0\" y=\"0\" width=\"2400\" height=\"1600\"/>\n  </clipPath>\n</defs>\n<path clip-path=\"url(#clip320)\" d=\"\nM0 1600 L2400 1600 L2400 0 L0 0  Z\n  \" fill=\"#ffffff\" fill-rule=\"evenodd\" fill-opacity=\"1\"/>\n<defs>\n  <clipPath id=\"clip321\">\n    <rect x=\"480\" y=\"0\" width=\"1681\" height=\"1600\"/>\n  </clipPath>\n</defs>\n<path clip-path=\"url(#clip320)\" d=\"\nM257.204 1153.06 L2352.76 1153.06 L2352.76 123.472 L257.204 123.472  Z\n  \" fill=\"#ffffff\" fill-rule=\"evenodd\" fill-opacity=\"1\"/>\n<defs>\n  <clipPath id=\"clip322\">\n    <rect x=\"257\" y=\"123\" width=\"2097\" height=\"1031\"/>\n  </clipPath>\n</defs>\n<polyline clip-path=\"url(#clip322)\" style=\"stroke:#000000; stroke-linecap:round; stroke-linejoin:round; stroke-width:2; stroke-opacity:0.1; fill:none\" points=\"\n  257.204,1153.06 257.204,123.472 \n  \"/>\n<polyline clip-path=\"url(#clip322)\" style=\"stroke:#000000; stroke-linecap:round; stroke-linejoin:round; stroke-width:2; stroke-opacity:0.1; fill:none\" points=\"\n  590.721,1153.06 590.721,123.472 \n  \"/>\n<polyline clip-path=\"url(#clip322)\" style=\"stroke:#000000; stroke-linecap:round; stroke-linejoin:round; stroke-width:2; stroke-opacity:0.1; fill:none\" points=\"\n  924.239,1153.06 924.239,123.472 \n  \"/>\n<polyline clip-path=\"url(#clip322)\" style=\"stroke:#000000; stroke-linecap:round; stroke-linejoin:round; stroke-width:2; stroke-opacity:0.1; fill:none\" points=\"\n  1257.76,1153.06 1257.76,123.472 \n  \"/>\n<polyline clip-path=\"url(#clip322)\" style=\"stroke:#000000; stroke-linecap:round; stroke-linejoin:round; stroke-width:2; stroke-opacity:0.1; fill:none\" points=\"\n  1591.27,1153.06 1591.27,123.472 \n  \"/>\n<polyline clip-path=\"url(#clip322)\" style=\"stroke:#000000; stroke-linecap:round; stroke-linejoin:round; stroke-width:2; stroke-opacity:0.1; fill:none\" points=\"\n  1924.79,1153.06 1924.79,123.472 \n  \"/>\n<polyline clip-path=\"url(#clip322)\" style=\"stroke:#000000; stroke-linecap:round; stroke-linejoin:round; stroke-width:2; stroke-opacity:0.1; fill:none\" points=\"\n  2258.31,1153.06 2258.31,123.472 \n  \"/>\n<polyline clip-path=\"url(#clip320)\" style=\"stroke:#000000; stroke-linecap:round; stroke-linejoin:round; stroke-width:4; stroke-opacity:1; fill:none\" points=\"\n  257.204,1153.06 2352.76,1153.06 \n  \"/>\n<polyline clip-path=\"url(#clip320)\" style=\"stroke:#000000; stroke-linecap:round; stroke-linejoin:round; stroke-width:4; stroke-opacity:1; fill:none\" points=\"\n  257.204,1153.06 257.204,1138.09 \n  \"/>\n<polyline clip-path=\"url(#clip320)\" style=\"stroke:#000000; stroke-linecap:round; stroke-linejoin:round; stroke-width:4; stroke-opacity:1; fill:none\" points=\"\n  590.721,1153.06 590.721,1138.09 \n  \"/>\n<polyline clip-path=\"url(#clip320)\" style=\"stroke:#000000; stroke-linecap:round; stroke-linejoin:round; stroke-width:4; stroke-opacity:1; fill:none\" points=\"\n  924.239,1153.06 924.239,1138.09 \n  \"/>\n<polyline clip-path=\"url(#clip320)\" style=\"stroke:#000000; stroke-linecap:round; stroke-linejoin:round; stroke-width:4; stroke-opacity:1; fill:none\" points=\"\n  1257.76,1153.06 1257.76,1138.09 \n  \"/>\n<polyline clip-path=\"url(#clip320)\" style=\"stroke:#000000; stroke-linecap:round; stroke-linejoin:round; stroke-width:4; stroke-opacity:1; fill:none\" points=\"\n  1591.27,1153.06 1591.27,1138.09 \n  \"/>\n<polyline clip-path=\"url(#clip320)\" style=\"stroke:#000000; stroke-linecap:round; stroke-linejoin:round; stroke-width:4; stroke-opacity:1; fill:none\" points=\"\n  1924.79,1153.06 1924.79,1138.09 \n  \"/>\n<polyline clip-path=\"url(#clip320)\" style=\"stroke:#000000; stroke-linecap:round; stroke-linejoin:round; stroke-width:4; stroke-opacity:1; fill:none\" points=\"\n  2258.31,1153.06 2258.31,1138.09 \n  \"/>\n<path clip-path=\"url(#clip320)\" d=\"M257.204 1183.97 Q253.593 1183.97 251.764 1187.54 Q249.959 1191.08 249.959 1198.21 Q249.959 1205.32 251.764 1208.88 Q253.593 1212.42 257.204 1212.42 Q260.838 1212.42 262.644 1208.88 Q264.473 1205.32 264.473 1198.21 Q264.473 1191.08 262.644 1187.54 Q260.838 1183.97 257.204 1183.97 M257.204 1180.27 Q263.014 1180.27 266.07 1184.88 Q269.148 1189.46 269.148 1198.21 Q269.148 1206.94 266.07 1211.54 Q263.014 1216.13 257.204 1216.13 Q251.394 1216.13 248.315 1211.54 Q245.26 1206.94 245.26 1198.21 Q245.26 1189.46 248.315 1184.88 Q251.394 1180.27 257.204 1180.27 Z\" fill=\"#000000\" fill-rule=\"evenodd\" fill-opacity=\"1\" /><path clip-path=\"url(#clip320)\" d=\"M581.103 1211.52 L588.742 1211.52 L588.742 1185.16 L580.432 1186.82 L580.432 1182.56 L588.696 1180.9 L593.372 1180.9 L593.372 1211.52 L601.011 1211.52 L601.011 1215.46 L581.103 1215.46 L581.103 1211.52 Z\" fill=\"#000000\" fill-rule=\"evenodd\" fill-opacity=\"1\" /><path clip-path=\"url(#clip320)\" d=\"M918.892 1211.52 L935.211 1211.52 L935.211 1215.46 L913.267 1215.46 L913.267 1211.52 Q915.929 1208.77 920.512 1204.14 Q925.119 1199.48 926.299 1198.14 Q928.544 1195.62 929.424 1193.88 Q930.327 1192.12 930.327 1190.43 Q930.327 1187.68 928.382 1185.94 Q926.461 1184.21 923.359 1184.21 Q921.16 1184.21 918.707 1184.97 Q916.276 1185.73 913.498 1187.29 L913.498 1182.56 Q916.322 1181.43 918.776 1180.85 Q921.23 1180.27 923.267 1180.27 Q928.637 1180.27 931.831 1182.96 Q935.026 1185.64 935.026 1190.13 Q935.026 1192.26 934.216 1194.18 Q933.429 1196.08 931.322 1198.67 Q930.744 1199.35 927.642 1202.56 Q924.54 1205.76 918.892 1211.52 Z\" fill=\"#000000\" fill-rule=\"evenodd\" fill-opacity=\"1\" /><path clip-path=\"url(#clip320)\" d=\"M1262 1196.82 Q1265.36 1197.54 1267.24 1199.81 Q1269.13 1202.08 1269.13 1205.41 Q1269.13 1210.53 1265.62 1213.33 Q1262.1 1216.13 1255.62 1216.13 Q1253.44 1216.13 1251.12 1215.69 Q1248.83 1215.27 1246.38 1214.41 L1246.38 1209.9 Q1248.32 1211.03 1250.64 1211.61 Q1252.95 1212.19 1255.48 1212.19 Q1259.87 1212.19 1262.17 1210.46 Q1264.48 1208.72 1264.48 1205.41 Q1264.48 1202.35 1262.33 1200.64 Q1260.2 1198.91 1256.38 1198.91 L1252.35 1198.91 L1252.35 1195.06 L1256.56 1195.06 Q1260.01 1195.06 1261.84 1193.7 Q1263.67 1192.31 1263.67 1189.72 Q1263.67 1187.05 1261.77 1185.64 Q1259.9 1184.21 1256.38 1184.21 Q1254.46 1184.21 1252.26 1184.62 Q1250.06 1185.04 1247.42 1185.92 L1247.42 1181.75 Q1250.08 1181.01 1252.4 1180.64 Q1254.74 1180.27 1256.8 1180.27 Q1262.12 1180.27 1265.22 1182.7 Q1268.32 1185.11 1268.32 1189.23 Q1268.32 1192.1 1266.68 1194.09 Q1265.04 1196.06 1262 1196.82 Z\" fill=\"#000000\" fill-rule=\"evenodd\" fill-opacity=\"1\" /><path clip-path=\"url(#clip320)\" d=\"M1594.28 1184.97 L1582.48 1203.42 L1594.28 1203.42 L1594.28 1184.97 M1593.06 1180.9 L1598.94 1180.9 L1598.94 1203.42 L1603.87 1203.42 L1603.87 1207.31 L1598.94 1207.31 L1598.94 1215.46 L1594.28 1215.46 L1594.28 1207.31 L1578.68 1207.31 L1578.68 1202.79 L1593.06 1180.9 Z\" fill=\"#000000\" fill-rule=\"evenodd\" fill-opacity=\"1\" /><path clip-path=\"url(#clip320)\" d=\"M1915.07 1180.9 L1933.43 1180.9 L1933.43 1184.83 L1919.35 1184.83 L1919.35 1193.3 Q1920.37 1192.96 1921.39 1192.79 Q1922.41 1192.61 1923.43 1192.61 Q1929.21 1192.61 1932.59 1195.78 Q1935.97 1198.95 1935.97 1204.37 Q1935.97 1209.95 1932.5 1213.05 Q1929.03 1216.13 1922.71 1216.13 Q1920.53 1216.13 1918.26 1215.76 Q1916.02 1215.39 1913.61 1214.65 L1913.61 1209.95 Q1915.69 1211.08 1917.92 1211.64 Q1920.14 1212.19 1922.62 1212.19 Q1926.62 1212.19 1928.96 1210.09 Q1931.3 1207.98 1931.3 1204.37 Q1931.3 1200.76 1928.96 1198.65 Q1926.62 1196.54 1922.62 1196.54 Q1920.74 1196.54 1918.87 1196.96 Q1917.01 1197.38 1915.07 1198.26 L1915.07 1180.9 Z\" fill=\"#000000\" fill-rule=\"evenodd\" fill-opacity=\"1\" /><path clip-path=\"url(#clip320)\" d=\"M2258.71 1196.31 Q2255.57 1196.31 2253.71 1198.47 Q2251.89 1200.62 2251.89 1204.37 Q2251.89 1208.1 2253.71 1210.27 Q2255.57 1212.42 2258.71 1212.42 Q2261.86 1212.42 2263.69 1210.27 Q2265.54 1208.1 2265.54 1204.37 Q2265.54 1200.62 2263.69 1198.47 Q2261.86 1196.31 2258.71 1196.31 M2268 1181.66 L2268 1185.92 Q2266.24 1185.09 2264.43 1184.65 Q2262.65 1184.21 2260.89 1184.21 Q2256.26 1184.21 2253.81 1187.33 Q2251.38 1190.46 2251.03 1196.78 Q2252.39 1194.76 2254.45 1193.7 Q2256.51 1192.61 2258.99 1192.61 Q2264.2 1192.61 2267.21 1195.78 Q2270.24 1198.93 2270.24 1204.37 Q2270.24 1209.69 2267.09 1212.91 Q2263.95 1216.13 2258.71 1216.13 Q2252.72 1216.13 2249.55 1211.54 Q2246.38 1206.94 2246.38 1198.21 Q2246.38 1190.02 2250.26 1185.16 Q2254.15 1180.27 2260.7 1180.27 Q2262.46 1180.27 2264.25 1180.62 Q2266.05 1180.97 2268 1181.66 Z\" fill=\"#000000\" fill-rule=\"evenodd\" fill-opacity=\"1\" /><path clip-path=\"url(#clip320)\" d=\"M1321.59 1262.27 L1308.7 1279.62 L1322.26 1297.92 L1315.36 1297.92 L1304.98 1283.92 L1294.6 1297.92 L1287.7 1297.92 L1301.54 1279.27 L1288.87 1262.27 L1295.78 1262.27 L1305.23 1274.97 L1314.69 1262.27 L1321.59 1262.27 Z\" fill=\"#000000\" fill-rule=\"evenodd\" fill-opacity=\"1\" /><polyline clip-path=\"url(#clip322)\" style=\"stroke:#000000; stroke-linecap:round; stroke-linejoin:round; stroke-width:2; stroke-opacity:0.1; fill:none\" points=\"\n  257.204,1123.94 2352.76,1123.94 \n  \"/>\n<polyline clip-path=\"url(#clip322)\" style=\"stroke:#000000; stroke-linecap:round; stroke-linejoin:round; stroke-width:2; stroke-opacity:0.1; fill:none\" points=\"\n  257.204,881.11 2352.76,881.11 \n  \"/>\n<polyline clip-path=\"url(#clip322)\" style=\"stroke:#000000; stroke-linecap:round; stroke-linejoin:round; stroke-width:2; stroke-opacity:0.1; fill:none\" points=\"\n  257.204,638.277 2352.76,638.277 \n  \"/>\n<polyline clip-path=\"url(#clip322)\" style=\"stroke:#000000; stroke-linecap:round; stroke-linejoin:round; stroke-width:2; stroke-opacity:0.1; fill:none\" points=\"\n  257.204,395.444 2352.76,395.444 \n  \"/>\n<polyline clip-path=\"url(#clip322)\" style=\"stroke:#000000; stroke-linecap:round; stroke-linejoin:round; stroke-width:2; stroke-opacity:0.1; fill:none\" points=\"\n  257.204,152.611 2352.76,152.611 \n  \"/>\n<polyline clip-path=\"url(#clip320)\" style=\"stroke:#000000; stroke-linecap:round; stroke-linejoin:round; stroke-width:4; stroke-opacity:1; fill:none\" points=\"\n  257.204,1153.06 257.204,123.472 \n  \"/>\n<polyline clip-path=\"url(#clip320)\" style=\"stroke:#000000; stroke-linecap:round; stroke-linejoin:round; stroke-width:4; stroke-opacity:1; fill:none\" points=\"\n  257.204,1123.94 276.102,1123.94 \n  \"/>\n<polyline clip-path=\"url(#clip320)\" style=\"stroke:#000000; stroke-linecap:round; stroke-linejoin:round; stroke-width:4; stroke-opacity:1; fill:none\" points=\"\n  257.204,881.11 276.102,881.11 \n  \"/>\n<polyline clip-path=\"url(#clip320)\" style=\"stroke:#000000; stroke-linecap:round; stroke-linejoin:round; stroke-width:4; stroke-opacity:1; fill:none\" points=\"\n  257.204,638.277 276.102,638.277 \n  \"/>\n<polyline clip-path=\"url(#clip320)\" style=\"stroke:#000000; stroke-linecap:round; stroke-linejoin:round; stroke-width:4; stroke-opacity:1; fill:none\" points=\"\n  257.204,395.444 276.102,395.444 \n  \"/>\n<polyline clip-path=\"url(#clip320)\" style=\"stroke:#000000; stroke-linecap:round; stroke-linejoin:round; stroke-width:4; stroke-opacity:1; fill:none\" points=\"\n  257.204,152.611 276.102,152.611 \n  \"/>\n<path clip-path=\"url(#clip320)\" d=\"M114.26 1124.39 L143.936 1124.39 L143.936 1128.33 L114.26 1128.33 L114.26 1124.39 Z\" fill=\"#000000\" fill-rule=\"evenodd\" fill-opacity=\"1\" /><path clip-path=\"url(#clip320)\" d=\"M154.839 1137.29 L162.477 1137.29 L162.477 1110.92 L154.167 1112.59 L154.167 1108.33 L162.431 1106.66 L167.107 1106.66 L167.107 1137.29 L174.746 1137.29 L174.746 1141.22 L154.839 1141.22 L154.839 1137.29 Z\" fill=\"#000000\" fill-rule=\"evenodd\" fill-opacity=\"1\" /><path clip-path=\"url(#clip320)\" d=\"M184.19 1135.34 L189.075 1135.34 L189.075 1141.22 L184.19 1141.22 L184.19 1135.34 Z\" fill=\"#000000\" fill-rule=\"evenodd\" fill-opacity=\"1\" /><path clip-path=\"url(#clip320)\" d=\"M209.26 1109.74 Q205.649 1109.74 203.82 1113.31 Q202.014 1116.85 202.014 1123.98 Q202.014 1131.08 203.82 1134.65 Q205.649 1138.19 209.26 1138.19 Q212.894 1138.19 214.699 1134.65 Q216.528 1131.08 216.528 1123.98 Q216.528 1116.85 214.699 1113.31 Q212.894 1109.74 209.26 1109.74 M209.26 1106.04 Q215.07 1106.04 218.125 1110.64 Q221.204 1115.23 221.204 1123.98 Q221.204 1132.7 218.125 1137.31 Q215.07 1141.89 209.26 1141.89 Q203.449 1141.89 200.371 1137.31 Q197.315 1132.7 197.315 1123.98 Q197.315 1115.23 200.371 1110.64 Q203.449 1106.04 209.26 1106.04 Z\" fill=\"#000000\" fill-rule=\"evenodd\" fill-opacity=\"1\" /><path clip-path=\"url(#clip320)\" d=\"M115.256 881.561 L144.931 881.561 L144.931 885.496 L115.256 885.496 L115.256 881.561 Z\" fill=\"#000000\" fill-rule=\"evenodd\" fill-opacity=\"1\" /><path clip-path=\"url(#clip320)\" d=\"M165.024 866.909 Q161.413 866.909 159.584 870.473 Q157.778 874.015 157.778 881.145 Q157.778 888.251 159.584 891.816 Q161.413 895.357 165.024 895.357 Q168.658 895.357 170.464 891.816 Q172.292 888.251 172.292 881.145 Q172.292 874.015 170.464 870.473 Q168.658 866.909 165.024 866.909 M165.024 863.205 Q170.834 863.205 173.889 867.811 Q176.968 872.395 176.968 881.145 Q176.968 889.871 173.889 894.478 Q170.834 899.061 165.024 899.061 Q159.214 899.061 156.135 894.478 Q153.079 889.871 153.079 881.145 Q153.079 872.395 156.135 867.811 Q159.214 863.205 165.024 863.205 Z\" fill=\"#000000\" fill-rule=\"evenodd\" fill-opacity=\"1\" /><path clip-path=\"url(#clip320)\" d=\"M185.186 892.51 L190.07 892.51 L190.07 898.39 L185.186 898.39 L185.186 892.51 Z\" fill=\"#000000\" fill-rule=\"evenodd\" fill-opacity=\"1\" /><path clip-path=\"url(#clip320)\" d=\"M200.301 863.83 L218.658 863.83 L218.658 867.765 L204.584 867.765 L204.584 876.237 Q205.602 875.89 206.621 875.728 Q207.639 875.543 208.658 875.543 Q214.445 875.543 217.824 878.714 Q221.204 881.885 221.204 887.302 Q221.204 892.881 217.732 895.982 Q214.26 899.061 207.94 899.061 Q205.764 899.061 203.496 898.691 Q201.25 898.32 198.843 897.58 L198.843 892.881 Q200.926 894.015 203.149 894.57 Q205.371 895.126 207.848 895.126 Q211.852 895.126 214.19 893.02 Q216.528 890.913 216.528 887.302 Q216.528 883.691 214.19 881.584 Q211.852 879.478 207.848 879.478 Q205.973 879.478 204.098 879.895 Q202.246 880.311 200.301 881.191 L200.301 863.83 Z\" fill=\"#000000\" fill-rule=\"evenodd\" fill-opacity=\"1\" /><path clip-path=\"url(#clip320)\" d=\"M164.028 624.076 Q160.417 624.076 158.589 627.641 Q156.783 631.182 156.783 638.312 Q156.783 645.418 158.589 648.983 Q160.417 652.525 164.028 652.525 Q167.663 652.525 169.468 648.983 Q171.297 645.418 171.297 638.312 Q171.297 631.182 169.468 627.641 Q167.663 624.076 164.028 624.076 M164.028 620.372 Q169.839 620.372 172.894 624.978 Q175.973 629.562 175.973 638.312 Q175.973 647.039 172.894 651.645 Q169.839 656.228 164.028 656.228 Q158.218 656.228 155.14 651.645 Q152.084 647.039 152.084 638.312 Q152.084 629.562 155.14 624.978 Q158.218 620.372 164.028 620.372 Z\" fill=\"#000000\" fill-rule=\"evenodd\" fill-opacity=\"1\" /><path clip-path=\"url(#clip320)\" d=\"M184.19 649.677 L189.075 649.677 L189.075 655.557 L184.19 655.557 L184.19 649.677 Z\" fill=\"#000000\" fill-rule=\"evenodd\" fill-opacity=\"1\" /><path clip-path=\"url(#clip320)\" d=\"M209.26 624.076 Q205.649 624.076 203.82 627.641 Q202.014 631.182 202.014 638.312 Q202.014 645.418 203.82 648.983 Q205.649 652.525 209.26 652.525 Q212.894 652.525 214.699 648.983 Q216.528 645.418 216.528 638.312 Q216.528 631.182 214.699 627.641 Q212.894 624.076 209.26 624.076 M209.26 620.372 Q215.07 620.372 218.125 624.978 Q221.204 629.562 221.204 638.312 Q221.204 647.039 218.125 651.645 Q215.07 656.228 209.26 656.228 Q203.449 656.228 200.371 651.645 Q197.315 647.039 197.315 638.312 Q197.315 629.562 200.371 624.978 Q203.449 620.372 209.26 620.372 Z\" fill=\"#000000\" fill-rule=\"evenodd\" fill-opacity=\"1\" /><path clip-path=\"url(#clip320)\" d=\"M165.024 381.243 Q161.413 381.243 159.584 384.808 Q157.778 388.349 157.778 395.479 Q157.778 402.585 159.584 406.15 Q161.413 409.692 165.024 409.692 Q168.658 409.692 170.464 406.15 Q172.292 402.585 172.292 395.479 Q172.292 388.349 170.464 384.808 Q168.658 381.243 165.024 381.243 M165.024 377.539 Q170.834 377.539 173.889 382.146 Q176.968 386.729 176.968 395.479 Q176.968 404.206 173.889 408.812 Q170.834 413.395 165.024 413.395 Q159.214 413.395 156.135 408.812 Q153.079 404.206 153.079 395.479 Q153.079 386.729 156.135 382.146 Q159.214 377.539 165.024 377.539 Z\" fill=\"#000000\" fill-rule=\"evenodd\" fill-opacity=\"1\" /><path clip-path=\"url(#clip320)\" d=\"M185.186 406.845 L190.07 406.845 L190.07 412.724 L185.186 412.724 L185.186 406.845 Z\" fill=\"#000000\" fill-rule=\"evenodd\" fill-opacity=\"1\" /><path clip-path=\"url(#clip320)\" d=\"M200.301 378.164 L218.658 378.164 L218.658 382.099 L204.584 382.099 L204.584 390.571 Q205.602 390.224 206.621 390.062 Q207.639 389.877 208.658 389.877 Q214.445 389.877 217.824 393.048 Q221.204 396.22 221.204 401.636 Q221.204 407.215 217.732 410.317 Q214.26 413.395 207.94 413.395 Q205.764 413.395 203.496 413.025 Q201.25 412.655 198.843 411.914 L198.843 407.215 Q200.926 408.349 203.149 408.905 Q205.371 409.46 207.848 409.46 Q211.852 409.46 214.19 407.354 Q216.528 405.247 216.528 401.636 Q216.528 398.025 214.19 395.919 Q211.852 393.812 207.848 393.812 Q205.973 393.812 204.098 394.229 Q202.246 394.646 200.301 395.525 L200.301 378.164 Z\" fill=\"#000000\" fill-rule=\"evenodd\" fill-opacity=\"1\" /><path clip-path=\"url(#clip320)\" d=\"M154.839 165.956 L162.477 165.956 L162.477 139.591 L154.167 141.257 L154.167 136.998 L162.431 135.331 L167.107 135.331 L167.107 165.956 L174.746 165.956 L174.746 169.891 L154.839 169.891 L154.839 165.956 Z\" fill=\"#000000\" fill-rule=\"evenodd\" fill-opacity=\"1\" /><path clip-path=\"url(#clip320)\" d=\"M184.19 164.012 L189.075 164.012 L189.075 169.891 L184.19 169.891 L184.19 164.012 Z\" fill=\"#000000\" fill-rule=\"evenodd\" fill-opacity=\"1\" /><path clip-path=\"url(#clip320)\" d=\"M209.26 138.41 Q205.649 138.41 203.82 141.975 Q202.014 145.516 202.014 152.646 Q202.014 159.752 203.82 163.317 Q205.649 166.859 209.26 166.859 Q212.894 166.859 214.699 163.317 Q216.528 159.752 216.528 152.646 Q216.528 145.516 214.699 141.975 Q212.894 138.41 209.26 138.41 M209.26 134.706 Q215.07 134.706 218.125 139.313 Q221.204 143.896 221.204 152.646 Q221.204 161.373 218.125 165.979 Q215.07 170.563 209.26 170.563 Q203.449 170.563 200.371 165.979 Q197.315 161.373 197.315 152.646 Q197.315 143.896 200.371 139.313 Q203.449 134.706 209.26 134.706 Z\" fill=\"#000000\" fill-rule=\"evenodd\" fill-opacity=\"1\" /><path clip-path=\"url(#clip320)\" d=\"M67.3143 636.577 Q73.68 639.06 75.6216 641.415 Q77.5631 643.771 77.5631 647.717 L77.5631 652.396 L72.6615 652.396 L72.6615 648.959 Q72.6615 646.54 71.5157 645.203 Q70.3699 643.866 66.1048 642.243 L63.4312 641.192 L28.3562 655.611 L28.3562 649.404 L56.238 638.264 L28.3562 627.124 L28.3562 620.918 L67.3143 636.577 Z\" fill=\"#000000\" fill-rule=\"evenodd\" fill-opacity=\"1\" /><path clip-path=\"url(#clip320)\" d=\"M817.859 12.096 L869.022 12.096 L869.022 18.9825 L847.552 18.9825 L847.552 72.576 L839.329 72.576 L839.329 18.9825 L817.859 18.9825 L817.859 12.096 Z\" fill=\"#000000\" fill-rule=\"evenodd\" fill-opacity=\"1\" /><path clip-path=\"url(#clip320)\" d=\"M890.694 34.1734 Q889.438 33.4443 887.939 33.1202 Q886.481 32.7556 884.699 32.7556 Q878.379 32.7556 874.976 36.8875 Q871.614 40.9789 871.614 48.6757 L871.614 72.576 L864.12 72.576 L864.12 27.2059 L871.614 27.2059 L871.614 34.2544 Q873.964 30.1225 877.731 28.1376 Q881.498 26.1121 886.886 26.1121 Q887.656 26.1121 888.588 26.2337 Q889.519 26.3147 890.653 26.5172 L890.694 34.1734 Z\" fill=\"#000000\" fill-rule=\"evenodd\" fill-opacity=\"1\" /><path clip-path=\"url(#clip320)\" d=\"M898.512 27.2059 L905.966 27.2059 L905.966 72.576 L898.512 72.576 L898.512 27.2059 M898.512 9.54393 L905.966 9.54393 L905.966 18.9825 L898.512 18.9825 L898.512 9.54393 Z\" fill=\"#000000\" fill-rule=\"evenodd\" fill-opacity=\"1\" /><path clip-path=\"url(#clip320)\" d=\"M951.417 49.3643 Q951.417 41.2625 948.055 36.8065 Q944.733 32.3505 938.697 32.3505 Q932.702 32.3505 929.34 36.8065 Q926.018 41.2625 926.018 49.3643 Q926.018 57.4256 929.34 61.8816 Q932.702 66.3376 938.697 66.3376 Q944.733 66.3376 948.055 61.8816 Q951.417 57.4256 951.417 49.3643 M958.871 66.9452 Q958.871 78.5308 953.726 84.1616 Q948.581 89.8329 937.968 89.8329 Q934.039 89.8329 930.555 89.2252 Q927.071 88.6581 923.79 87.4428 L923.79 80.1917 Q927.071 81.9741 930.271 82.8248 Q933.472 83.6755 936.793 83.6755 Q944.125 83.6755 947.771 79.8271 Q951.417 76.0193 951.417 68.282 L951.417 64.5957 Q949.108 68.6061 945.503 70.5911 Q941.897 72.576 936.874 72.576 Q928.529 72.576 923.425 66.2161 Q918.321 59.8562 918.321 49.3643 Q918.321 38.832 923.425 32.472 Q928.529 26.1121 936.874 26.1121 Q941.897 26.1121 945.503 28.0971 Q949.108 30.082 951.417 34.0924 L951.417 27.2059 L958.871 27.2059 L958.871 66.9452 Z\" fill=\"#000000\" fill-rule=\"evenodd\" fill-opacity=\"1\" /><path clip-path=\"url(#clip320)\" d=\"M991.805 32.4315 Q985.809 32.4315 982.325 37.1306 Q978.842 41.7891 978.842 49.9314 Q978.842 58.0738 982.285 62.7728 Q985.769 67.4314 991.805 67.4314 Q997.759 67.4314 1001.24 62.7323 Q1004.73 58.0333 1004.73 49.9314 Q1004.73 41.8701 1001.24 37.1711 Q997.759 32.4315 991.805 32.4315 M991.805 26.1121 Q1001.53 26.1121 1007.08 32.4315 Q1012.63 38.7509 1012.63 49.9314 Q1012.63 61.0714 1007.08 67.4314 Q1001.53 73.7508 991.805 73.7508 Q982.042 73.7508 976.492 67.4314 Q970.983 61.0714 970.983 49.9314 Q970.983 38.7509 976.492 32.4315 Q982.042 26.1121 991.805 26.1121 Z\" fill=\"#000000\" fill-rule=\"evenodd\" fill-opacity=\"1\" /><path clip-path=\"url(#clip320)\" d=\"M1062.7 45.1919 L1062.7 72.576 L1055.24 72.576 L1055.24 45.4349 Q1055.24 38.994 1052.73 35.7938 Q1050.22 32.5936 1045.2 32.5936 Q1039.16 32.5936 1035.68 36.4419 Q1032.19 40.2903 1032.19 46.9338 L1032.19 72.576 L1024.7 72.576 L1024.7 27.2059 L1032.19 27.2059 L1032.19 34.2544 Q1034.87 30.163 1038.47 28.1376 Q1042.12 26.1121 1046.86 26.1121 Q1054.67 26.1121 1058.68 30.9732 Q1062.7 35.7938 1062.7 45.1919 Z\" fill=\"#000000\" fill-rule=\"evenodd\" fill-opacity=\"1\" /><path clip-path=\"url(#clip320)\" d=\"M1095.14 32.4315 Q1089.15 32.4315 1085.66 37.1306 Q1082.18 41.7891 1082.18 49.9314 Q1082.18 58.0738 1085.62 62.7728 Q1089.11 67.4314 1095.14 67.4314 Q1101.1 67.4314 1104.58 62.7323 Q1108.07 58.0333 1108.07 49.9314 Q1108.07 41.8701 1104.58 37.1711 Q1101.1 32.4315 1095.14 32.4315 M1095.14 26.1121 Q1104.87 26.1121 1110.42 32.4315 Q1115.96 38.7509 1115.96 49.9314 Q1115.96 61.0714 1110.42 67.4314 Q1104.87 73.7508 1095.14 73.7508 Q1085.38 73.7508 1079.83 67.4314 Q1074.32 61.0714 1074.32 49.9314 Q1074.32 38.7509 1079.83 32.4315 Q1085.38 26.1121 1095.14 26.1121 Z\" fill=\"#000000\" fill-rule=\"evenodd\" fill-opacity=\"1\" /><path clip-path=\"url(#clip320)\" d=\"M1163.64 35.9153 Q1166.44 30.8922 1170.33 28.5022 Q1174.22 26.1121 1179.48 26.1121 Q1186.57 26.1121 1190.42 31.0947 Q1194.27 36.0368 1194.27 45.1919 L1194.27 72.576 L1186.77 72.576 L1186.77 45.4349 Q1186.77 38.913 1184.47 35.7533 Q1182.16 32.5936 1177.42 32.5936 Q1171.62 32.5936 1168.26 36.4419 Q1164.9 40.2903 1164.9 46.9338 L1164.9 72.576 L1157.41 72.576 L1157.41 45.4349 Q1157.41 38.8725 1155.1 35.7533 Q1152.79 32.5936 1147.97 32.5936 Q1142.26 32.5936 1138.89 36.4824 Q1135.53 40.3308 1135.53 46.9338 L1135.53 72.576 L1128.04 72.576 L1128.04 27.2059 L1135.53 27.2059 L1135.53 34.2544 Q1138.08 30.082 1141.65 28.0971 Q1145.21 26.1121 1150.11 26.1121 Q1155.06 26.1121 1158.5 28.6237 Q1161.98 31.1352 1163.64 35.9153 Z\" fill=\"#000000\" fill-rule=\"evenodd\" fill-opacity=\"1\" /><path clip-path=\"url(#clip320)\" d=\"M1247.94 48.0275 L1247.94 51.6733 L1213.67 51.6733 Q1214.16 59.3701 1218.29 63.421 Q1222.46 67.4314 1229.88 67.4314 Q1234.17 67.4314 1238.18 66.3781 Q1242.23 65.3249 1246.2 63.2184 L1246.2 70.267 Q1242.19 71.9684 1237.98 72.8596 Q1233.77 73.7508 1229.43 73.7508 Q1218.57 73.7508 1212.21 67.4314 Q1205.89 61.1119 1205.89 50.3365 Q1205.89 39.1965 1211.89 32.6746 Q1217.93 26.1121 1228.13 26.1121 Q1237.29 26.1121 1242.6 32.0264 Q1247.94 37.9003 1247.94 48.0275 M1240.49 45.84 Q1240.41 39.7232 1237.05 36.0774 Q1233.72 32.4315 1228.22 32.4315 Q1221.98 32.4315 1218.21 35.9558 Q1214.48 39.4801 1213.92 45.8805 L1240.49 45.84 Z\" fill=\"#000000\" fill-rule=\"evenodd\" fill-opacity=\"1\" /><path clip-path=\"url(#clip320)\" d=\"M1267.55 14.324 L1267.55 27.2059 L1282.9 27.2059 L1282.9 32.9987 L1267.55 32.9987 L1267.55 57.6282 Q1267.55 63.1779 1269.05 64.7578 Q1270.59 66.3376 1275.25 66.3376 L1282.9 66.3376 L1282.9 72.576 L1275.25 72.576 Q1266.62 72.576 1263.34 69.3758 Q1260.06 66.1351 1260.06 57.6282 L1260.06 32.9987 L1254.59 32.9987 L1254.59 27.2059 L1260.06 27.2059 L1260.06 14.324 L1267.55 14.324 Z\" fill=\"#000000\" fill-rule=\"evenodd\" fill-opacity=\"1\" /><path clip-path=\"url(#clip320)\" d=\"M1319 34.1734 Q1317.74 33.4443 1316.24 33.1202 Q1314.78 32.7556 1313 32.7556 Q1306.68 32.7556 1303.28 36.8875 Q1299.92 40.9789 1299.92 48.6757 L1299.92 72.576 L1292.42 72.576 L1292.42 27.2059 L1299.92 27.2059 L1299.92 34.2544 Q1302.27 30.1225 1306.03 28.1376 Q1309.8 26.1121 1315.19 26.1121 Q1315.96 26.1121 1316.89 26.2337 Q1317.82 26.3147 1318.96 26.5172 L1319 34.1734 Z\" fill=\"#000000\" fill-rule=\"evenodd\" fill-opacity=\"1\" /><path clip-path=\"url(#clip320)\" d=\"M1326.81 27.2059 L1334.27 27.2059 L1334.27 72.576 L1326.81 72.576 L1326.81 27.2059 M1326.81 9.54393 L1334.27 9.54393 L1334.27 18.9825 L1326.81 18.9825 L1326.81 9.54393 Z\" fill=\"#000000\" fill-rule=\"evenodd\" fill-opacity=\"1\" /><path clip-path=\"url(#clip320)\" d=\"M1382.51 28.9478 L1382.51 35.9153 Q1379.35 34.1734 1376.15 33.3227 Q1372.99 32.4315 1369.75 32.4315 Q1362.5 32.4315 1358.49 37.0496 Q1354.48 41.6271 1354.48 49.9314 Q1354.48 58.2358 1358.49 62.8538 Q1362.5 67.4314 1369.75 67.4314 Q1372.99 67.4314 1376.15 66.5807 Q1379.35 65.6895 1382.51 63.9476 L1382.51 70.8341 Q1379.4 72.2924 1376.03 73.0216 Q1372.71 73.7508 1368.94 73.7508 Q1358.69 73.7508 1352.66 67.3098 Q1346.62 60.8689 1346.62 49.9314 Q1346.62 38.832 1352.7 32.472 Q1358.82 26.1121 1369.43 26.1121 Q1372.87 26.1121 1376.15 26.8413 Q1379.44 27.5299 1382.51 28.9478 Z\" fill=\"#000000\" fill-rule=\"evenodd\" fill-opacity=\"1\" /><path clip-path=\"url(#clip320)\" d=\"M1444.82 9.54393 L1444.82 15.7418 L1437.69 15.7418 Q1433.68 15.7418 1432.1 17.3622 Q1430.56 18.9825 1430.56 23.1955 L1430.56 27.2059 L1442.83 27.2059 L1442.83 32.9987 L1430.56 32.9987 L1430.56 72.576 L1423.06 72.576 L1423.06 32.9987 L1415.93 32.9987 L1415.93 27.2059 L1423.06 27.2059 L1423.06 24.0462 Q1423.06 16.471 1426.59 13.0277 Q1430.11 9.54393 1437.77 9.54393 L1444.82 9.54393 Z\" fill=\"#000000\" fill-rule=\"evenodd\" fill-opacity=\"1\" /><path clip-path=\"url(#clip320)\" d=\"M1450.29 54.671 L1450.29 27.2059 L1457.74 27.2059 L1457.74 54.3874 Q1457.74 60.8284 1460.25 64.0691 Q1462.76 67.2693 1467.79 67.2693 Q1473.82 67.2693 1477.31 63.421 Q1480.83 59.5726 1480.83 52.9291 L1480.83 27.2059 L1488.28 27.2059 L1488.28 72.576 L1480.83 72.576 L1480.83 65.6084 Q1478.12 69.7404 1474.51 71.7658 Q1470.95 73.7508 1466.21 73.7508 Q1458.39 73.7508 1454.34 68.8897 Q1450.29 64.0286 1450.29 54.671 M1469.04 26.1121 L1469.04 26.1121 Z\" fill=\"#000000\" fill-rule=\"evenodd\" fill-opacity=\"1\" /><path clip-path=\"url(#clip320)\" d=\"M1541.35 45.1919 L1541.35 72.576 L1533.9 72.576 L1533.9 45.4349 Q1533.9 38.994 1531.39 35.7938 Q1528.87 32.5936 1523.85 32.5936 Q1517.81 32.5936 1514.33 36.4419 Q1510.85 40.2903 1510.85 46.9338 L1510.85 72.576 L1503.35 72.576 L1503.35 27.2059 L1510.85 27.2059 L1510.85 34.2544 Q1513.52 30.163 1517.13 28.1376 Q1520.77 26.1121 1525.51 26.1121 Q1533.33 26.1121 1537.34 30.9732 Q1541.35 35.7938 1541.35 45.1919 Z\" fill=\"#000000\" fill-rule=\"evenodd\" fill-opacity=\"1\" /><path clip-path=\"url(#clip320)\" d=\"M1588.87 28.9478 L1588.87 35.9153 Q1585.71 34.1734 1582.51 33.3227 Q1579.35 32.4315 1576.11 32.4315 Q1568.86 32.4315 1564.85 37.0496 Q1560.84 41.6271 1560.84 49.9314 Q1560.84 58.2358 1564.85 62.8538 Q1568.86 67.4314 1576.11 67.4314 Q1579.35 67.4314 1582.51 66.5807 Q1585.71 65.6895 1588.87 63.9476 L1588.87 70.8341 Q1585.75 72.2924 1582.39 73.0216 Q1579.06 73.7508 1575.3 73.7508 Q1565.05 73.7508 1559.01 67.3098 Q1552.98 60.8689 1552.98 49.9314 Q1552.98 38.832 1559.05 32.472 Q1565.17 26.1121 1575.78 26.1121 Q1579.23 26.1121 1582.51 26.8413 Q1585.79 27.5299 1588.87 28.9478 Z\" fill=\"#000000\" fill-rule=\"evenodd\" fill-opacity=\"1\" /><path clip-path=\"url(#clip320)\" d=\"M1609.2 14.324 L1609.2 27.2059 L1624.56 27.2059 L1624.56 32.9987 L1609.2 32.9987 L1609.2 57.6282 Q1609.2 63.1779 1610.7 64.7578 Q1612.24 66.3376 1616.9 66.3376 L1624.56 66.3376 L1624.56 72.576 L1616.9 72.576 Q1608.27 72.576 1604.99 69.3758 Q1601.71 66.1351 1601.71 57.6282 L1601.71 32.9987 L1596.24 32.9987 L1596.24 27.2059 L1601.71 27.2059 L1601.71 14.324 L1609.2 14.324 Z\" fill=\"#000000\" fill-rule=\"evenodd\" fill-opacity=\"1\" /><path clip-path=\"url(#clip320)\" d=\"M1634.36 27.2059 L1641.81 27.2059 L1641.81 72.576 L1634.36 72.576 L1634.36 27.2059 M1634.36 9.54393 L1641.81 9.54393 L1641.81 18.9825 L1634.36 18.9825 L1634.36 9.54393 Z\" fill=\"#000000\" fill-rule=\"evenodd\" fill-opacity=\"1\" /><path clip-path=\"url(#clip320)\" d=\"M1674.99 32.4315 Q1668.99 32.4315 1665.51 37.1306 Q1662.03 41.7891 1662.03 49.9314 Q1662.03 58.0738 1665.47 62.7728 Q1668.95 67.4314 1674.99 67.4314 Q1680.94 67.4314 1684.43 62.7323 Q1687.91 58.0333 1687.91 49.9314 Q1687.91 41.8701 1684.43 37.1711 Q1680.94 32.4315 1674.99 32.4315 M1674.99 26.1121 Q1684.71 26.1121 1690.26 32.4315 Q1695.81 38.7509 1695.81 49.9314 Q1695.81 61.0714 1690.26 67.4314 Q1684.71 73.7508 1674.99 73.7508 Q1665.23 73.7508 1659.68 67.4314 Q1654.17 61.0714 1654.17 49.9314 Q1654.17 38.7509 1659.68 32.4315 Q1665.23 26.1121 1674.99 26.1121 Z\" fill=\"#000000\" fill-rule=\"evenodd\" fill-opacity=\"1\" /><path clip-path=\"url(#clip320)\" d=\"M1745.88 45.1919 L1745.88 72.576 L1738.43 72.576 L1738.43 45.4349 Q1738.43 38.994 1735.92 35.7938 Q1733.4 32.5936 1728.38 32.5936 Q1722.34 32.5936 1718.86 36.4419 Q1715.38 40.2903 1715.38 46.9338 L1715.38 72.576 L1707.88 72.576 L1707.88 27.2059 L1715.38 27.2059 L1715.38 34.2544 Q1718.05 30.163 1721.66 28.1376 Q1725.3 26.1121 1730.04 26.1121 Q1737.86 26.1121 1741.87 30.9732 Q1745.88 35.7938 1745.88 45.1919 Z\" fill=\"#000000\" fill-rule=\"evenodd\" fill-opacity=\"1\" /><path clip-path=\"url(#clip320)\" d=\"M1789.67 28.5427 L1789.67 35.5912 Q1786.51 33.9709 1783.11 33.1607 Q1779.71 32.3505 1776.06 32.3505 Q1770.51 32.3505 1767.71 34.0519 Q1764.96 35.7533 1764.96 39.156 Q1764.96 41.7486 1766.95 43.2475 Q1768.93 44.7058 1774.93 46.0426 L1777.48 46.6097 Q1785.42 48.3111 1788.74 51.4303 Q1792.1 54.509 1792.1 60.0587 Q1792.1 66.3781 1787.08 70.0644 Q1782.1 73.7508 1773.35 73.7508 Q1769.7 73.7508 1765.73 73.0216 Q1761.8 72.3329 1757.43 70.9151 L1757.43 63.2184 Q1761.56 65.3654 1765.57 66.4591 Q1769.58 67.5124 1773.51 67.5124 Q1778.77 67.5124 1781.61 65.73 Q1784.44 63.9071 1784.44 60.6258 Q1784.44 57.5877 1782.38 55.9673 Q1780.35 54.3469 1773.43 52.8481 L1770.83 52.2405 Q1763.91 50.7821 1760.83 47.7845 Q1757.75 44.7463 1757.75 39.4801 Q1757.75 33.0797 1762.29 29.5959 Q1766.82 26.1121 1775.17 26.1121 Q1779.3 26.1121 1782.95 26.7198 Q1786.59 27.3274 1789.67 28.5427 Z\" fill=\"#000000\" fill-rule=\"evenodd\" fill-opacity=\"1\" /><polyline clip-path=\"url(#clip322)\" style=\"stroke:#009af9; stroke-linecap:round; stroke-linejoin:round; stroke-width:8; stroke-opacity:1; fill:none\" points=\"\n  257.204,638.277 290.893,589.303 324.581,540.829 358.27,493.348 391.959,447.344 425.647,403.287 459.336,361.625 493.024,322.784 526.713,287.159 560.402,255.113 \n  594.09,226.974 627.779,203.027 661.468,183.518 695.156,168.644 728.845,158.558 762.533,153.363 796.222,153.111 829.911,157.805 863.599,167.397 897.288,181.789 \n  930.977,200.835 964.665,224.341 998.354,252.066 1032.04,283.728 1065.73,319.005 1099.42,357.537 1133.11,398.93 1166.8,442.764 1200.49,488.59 1234.17,535.943 \n  1267.86,584.339 1301.55,633.285 1335.24,682.281 1368.93,730.829 1402.62,778.434 1436.31,824.61 1469.99,868.886 1503.68,910.811 1537.37,949.958 1571.06,985.927 \n  1604.75,1018.35 1638.44,1046.9 1672.13,1071.29 1705.82,1091.26 1739.5,1106.61 1773.19,1117.19 1806.88,1122.89 1840.57,1123.64 1874.26,1119.45 1907.95,1110.35 \n  1941.64,1096.44 1975.32,1077.86 2009.01,1054.8 2042.7,1027.49 2076.39,996.219 2110.08,961.294 2143.77,923.076 2177.46,881.955 2211.14,838.35 2244.83,792.705 \n  2278.52,745.486 2312.21,697.174 2345.9,648.261 2379.59,599.247 2413.28,550.63 2446.96,502.908 2480.65,456.565 2514.34,412.074 2548.03,369.89 2581.72,330.441 \n  2615.41,294.131 2649.1,261.329 2682.79,232.37 2716.47,207.549 2750.16,187.119 2783.85,171.288 2817.54,160.217 2851.23,154.021 2884.92,152.761 2918.61,156.45 \n  2952.29,165.052 2985.98,178.477 3019.67,196.59 3053.36,219.206 3087.05,246.094 3120.74,276.98 3154.43,311.549 3188.11,349.449 3221.8,390.293 3255.49,433.666 \n  3289.18,479.124 3322.87,526.205 3356.56,574.428 3390.25,623.302 3423.94,672.329 3457.62,721.009 3491.31,768.845 3525,815.35 3558.69,860.05 3592.38,902.489 \n  \n  \"/>\n<polyline clip-path=\"url(#clip322)\" style=\"stroke:#e26f46; stroke-linecap:round; stroke-linejoin:round; stroke-width:4; stroke-opacity:1; fill:none\" points=\"\n  257.204,152.611 290.893,155.087 324.581,162.488 358.27,174.74 391.959,191.717 425.647,213.247 459.336,239.109 493.024,269.041 526.713,302.737 560.402,339.853 \n  594.09,380.012 627.779,422.804 661.468,467.792 695.156,514.518 728.845,562.506 762.533,611.266 796.222,660.302 829.911,709.113 863.599,757.202 897.288,804.079 \n  930.977,849.265 964.665,892.3 998.354,932.746 1032.04,970.19 1065.73,1004.25 1099.42,1034.58 1133.11,1060.87 1166.8,1082.85 1200.49,1100.3 1234.17,1113.04 \n  1267.86,1120.94 1301.55,1123.92 1335.24,1121.95 1368.93,1115.04 1402.62,1103.28 1436.31,1086.78 1469.99,1065.7 1503.68,1040.27 1537.37,1010.74 1571.06,977.409 \n  1604.75,940.624 1638.44,900.756 1672.13,858.213 1705.82,813.428 1739.5,766.857 1773.19,718.975 1806.88,670.271 1840.57,621.241 1874.26,572.384 1907.95,524.199 \n  1941.64,477.177 1975.32,431.797 2009.01,388.522 2042.7,347.793 2076.39,310.026 2110.08,275.605 2143.77,244.881 2177.46,218.167 2211.14,195.737 2244.83,177.817 \n  2278.52,164.592 2312.21,156.196 2345.9,152.714 2379.59,154.182 2413.28,160.585 2446.96,171.858 2480.65,187.886 2514.34,208.506 2548.03,233.506 2581.72,262.633 \n  2615.41,295.59 2649.1,332.039 2682.79,371.611 2716.47,413.901 2750.16,458.479 2783.85,504.89 2817.54,552.66 2851.23,601.303 2884.92,650.323 2918.61,699.221 \n  2952.29,747.497 2985.98,794.659 3019.67,840.228 3053.36,883.737 3087.05,924.745 3120.74,962.831 3154.43,997.61 3188.11,1028.72 3221.8,1055.86 3255.49,1078.74 \n  3289.18,1097.13 3322.87,1110.83 3356.56,1119.73 3390.25,1123.71 3423.94,1122.75 3457.62,1116.84 3491.31,1106.06 3525,1090.51 3558.69,1070.35 3592.38,1045.79 \n  \n  \"/>\n<polyline clip-path=\"url(#clip322)\" style=\"stroke:#3da44d; stroke-linecap:round; stroke-linejoin:round; stroke-width:12; stroke-opacity:1; fill:none\" stroke-dasharray=\"6, 12\" points=\"\n  257.204,881.11 290.893,876.171 324.581,861.557 358.27,837.861 391.959,806.047 425.647,767.41 459.336,723.52 493.024,676.163 526.713,627.265 560.402,578.815 \n  594.09,532.783 627.779,491.042 661.468,455.29 695.156,426.981 728.845,407.266 762.533,396.946 796.222,396.443 829.911,405.776 863.599,424.565 897.288,452.047 \n  930.977,487.104 964.665,528.309 998.354,573.987 1032.04,622.28 1065.73,671.224 1099.42,718.827 1133.11,763.155 1166.8,802.403 1200.49,834.975 1234.17,859.547 \n  1267.86,875.12 1301.55,881.059 1335.24,877.123 1368.93,863.472 1402.62,840.662 1436.31,809.621 1469.99,771.61 1503.68,728.176 1537.37,681.086 1571.06,632.254 \n  1604.75,583.667 1638.44,537.302 1672.13,495.043 1705.82,458.611 1739.5,429.486 1773.19,408.853 1806.88,397.552 1840.57,396.042 1874.26,404.384 1907.95,422.24 \n  1941.64,448.883 1975.32,483.229 2009.01,523.881 2042.7,569.187 2076.39,617.302 2110.08,666.271 2143.77,714.101 2177.46,758.847 2211.14,798.689 2244.83,832.006 \n  2278.52,857.444 2312.21,873.967 2345.9,880.905 2379.59,877.973 2413.28,865.293 2446.96,843.378 2480.65,813.122 2514.34,775.754 2548.03,732.794 2581.72,685.99 \n  2615.41,637.246 2649.1,588.543 2682.79,541.863 2716.47,499.105 2750.16,462.007 2783.85,432.079 2817.54,410.537 2851.23,398.259 2884.92,395.743 2918.61,403.092 \n  2952.29,420.006 2985.98,445.799 3019.67,479.42 3053.36,519.502 3087.05,564.416 3120.74,612.333 3154.43,661.306 3188.11,709.342 3221.8,754.488 3255.49,794.907 \n  3289.18,828.955 3322.87,855.248 3356.56,872.716 3390.25,880.648 3423.94,878.722 3457.62,867.017 3491.31,846.008 3525,816.549 3558.69,779.84 3592.38,737.373 \n  \n  \"/>\n<path clip-path=\"url(#clip320)\" d=\"\nM535.323 1423.18 L2074.64 1423.18 L2074.64 1319.5 L535.323 1319.5  Z\n  \" fill=\"#ffffff\" fill-rule=\"evenodd\" fill-opacity=\"1\"/>\n<polyline clip-path=\"url(#clip320)\" style=\"stroke:#000000; stroke-linecap:round; stroke-linejoin:round; stroke-width:4; stroke-opacity:1; fill:none\" points=\"\n  535.323,1423.18 2074.64,1423.18 2074.64,1319.5 535.323,1319.5 535.323,1423.18 \n  \"/>\n<polyline clip-path=\"url(#clip320)\" style=\"stroke:#009af9; stroke-linecap:round; stroke-linejoin:round; stroke-width:8; stroke-opacity:1; fill:none\" points=\"\n  558.606,1371.34 698.31,1371.34 \n  \"/>\n<path clip-path=\"url(#clip320)\" d=\"M740.02 1363.46 L740.02 1367.49 Q738.214 1366.56 736.27 1366.1 Q734.325 1365.63 732.242 1365.63 Q729.071 1365.63 727.473 1366.61 Q725.899 1367.58 725.899 1369.52 Q725.899 1371 727.034 1371.86 Q728.168 1372.69 731.594 1373.46 L733.052 1373.78 Q737.589 1374.75 739.487 1376.54 Q741.409 1378.3 741.409 1381.47 Q741.409 1385.08 738.538 1387.18 Q735.691 1389.29 730.691 1389.29 Q728.608 1389.29 726.339 1388.87 Q724.094 1388.48 721.594 1387.67 L721.594 1383.27 Q723.955 1384.5 726.247 1385.12 Q728.538 1385.73 730.784 1385.73 Q733.793 1385.73 735.413 1384.71 Q737.034 1383.67 737.034 1381.79 Q737.034 1380.06 735.853 1379.13 Q734.696 1378.2 730.737 1377.35 L729.256 1377 Q725.298 1376.17 723.538 1374.45 Q721.779 1372.72 721.779 1369.71 Q721.779 1366.05 724.372 1364.06 Q726.964 1362.07 731.733 1362.07 Q734.094 1362.07 736.177 1362.42 Q738.26 1362.76 740.02 1363.46 Z\" fill=\"#000000\" fill-rule=\"evenodd\" fill-opacity=\"1\" /><path clip-path=\"url(#clip320)\" d=\"M748.191 1362.69 L752.45 1362.69 L752.45 1388.62 L748.191 1388.62 L748.191 1362.69 M748.191 1352.6 L752.45 1352.6 L752.45 1358 L748.191 1358 L748.191 1352.6 Z\" fill=\"#000000\" fill-rule=\"evenodd\" fill-opacity=\"1\" /><path clip-path=\"url(#clip320)\" d=\"M782.913 1372.97 L782.913 1388.62 L778.654 1388.62 L778.654 1373.11 Q778.654 1369.43 777.219 1367.6 Q775.783 1365.77 772.913 1365.77 Q769.464 1365.77 767.473 1367.97 Q765.482 1370.17 765.482 1373.97 L765.482 1388.62 L761.2 1388.62 L761.2 1362.69 L765.482 1362.69 L765.482 1366.72 Q767.01 1364.38 769.07 1363.23 Q771.154 1362.07 773.862 1362.07 Q778.33 1362.07 780.621 1364.85 Q782.913 1367.6 782.913 1372.97 Z\" fill=\"#000000\" fill-rule=\"evenodd\" fill-opacity=\"1\" /><path clip-path=\"url(#clip320)\" d=\"M801.64 1352.65 Q798.538 1357.97 797.033 1363.18 Q795.529 1368.39 795.529 1373.74 Q795.529 1379.08 797.033 1384.34 Q798.561 1389.57 801.64 1394.87 L797.936 1394.87 Q794.464 1389.43 792.728 1384.18 Q791.015 1378.92 791.015 1373.74 Q791.015 1368.57 792.728 1363.34 Q794.441 1358.11 797.936 1352.65 L801.64 1352.65 Z\" fill=\"#000000\" fill-rule=\"evenodd\" fill-opacity=\"1\" /><path clip-path=\"url(#clip320)\" d=\"M831.454 1362.69 L822.079 1375.31 L831.94 1388.62 L826.917 1388.62 L819.371 1378.43 L811.825 1388.62 L806.802 1388.62 L816.871 1375.06 L807.658 1362.69 L812.681 1362.69 L819.556 1371.93 L826.431 1362.69 L831.454 1362.69 Z\" fill=\"#000000\" fill-rule=\"evenodd\" fill-opacity=\"1\" /><path clip-path=\"url(#clip320)\" d=\"M837.288 1352.65 L840.991 1352.65 Q844.464 1358.11 846.176 1363.34 Q847.913 1368.57 847.913 1373.74 Q847.913 1378.92 846.176 1384.18 Q844.464 1389.43 840.991 1394.87 L837.288 1394.87 Q840.366 1389.57 841.871 1384.34 Q843.399 1379.08 843.399 1373.74 Q843.399 1368.39 841.871 1363.18 Q840.366 1357.97 837.288 1352.65 Z\" fill=\"#000000\" fill-rule=\"evenodd\" fill-opacity=\"1\" /><polyline clip-path=\"url(#clip320)\" style=\"stroke:#e26f46; stroke-linecap:round; stroke-linejoin:round; stroke-width:4; stroke-opacity:1; fill:none\" points=\"\n  1063.95,1371.34 1203.65,1371.34 \n  \"/>\n<path clip-path=\"url(#clip320)\" d=\"M1247.45 1363.69 L1247.45 1367.67 Q1245.64 1366.68 1243.81 1366.19 Q1242.01 1365.68 1240.15 1365.68 Q1236.01 1365.68 1233.72 1368.32 Q1231.43 1370.93 1231.43 1375.68 Q1231.43 1380.43 1233.72 1383.06 Q1236.01 1385.68 1240.15 1385.68 Q1242.01 1385.68 1243.81 1385.19 Q1245.64 1384.68 1247.45 1383.69 L1247.45 1387.62 Q1245.66 1388.46 1243.74 1388.87 Q1241.84 1389.29 1239.69 1389.29 Q1233.84 1389.29 1230.39 1385.61 Q1226.94 1381.93 1226.94 1375.68 Q1226.94 1369.34 1230.41 1365.7 Q1233.91 1362.07 1239.97 1362.07 Q1241.94 1362.07 1243.81 1362.49 Q1245.69 1362.88 1247.45 1363.69 Z\" fill=\"#000000\" fill-rule=\"evenodd\" fill-opacity=\"1\" /><path clip-path=\"url(#clip320)\" d=\"M1264.9 1365.68 Q1261.47 1365.68 1259.48 1368.37 Q1257.49 1371.03 1257.49 1375.68 Q1257.49 1380.33 1259.46 1383.02 Q1261.45 1385.68 1264.9 1385.68 Q1268.3 1385.68 1270.29 1382.99 Q1272.28 1380.31 1272.28 1375.68 Q1272.28 1371.07 1270.29 1368.39 Q1268.3 1365.68 1264.9 1365.68 M1264.9 1362.07 Q1270.46 1362.07 1273.63 1365.68 Q1276.8 1369.29 1276.8 1375.68 Q1276.8 1382.05 1273.63 1385.68 Q1270.46 1389.29 1264.9 1389.29 Q1259.32 1389.29 1256.15 1385.68 Q1253 1382.05 1253 1375.68 Q1253 1369.29 1256.15 1365.68 Q1259.32 1362.07 1264.9 1362.07 Z\" fill=\"#000000\" fill-rule=\"evenodd\" fill-opacity=\"1\" /><path clip-path=\"url(#clip320)\" d=\"M1300.39 1363.46 L1300.39 1367.49 Q1298.58 1366.56 1296.64 1366.1 Q1294.69 1365.63 1292.61 1365.63 Q1289.44 1365.63 1287.84 1366.61 Q1286.27 1367.58 1286.27 1369.52 Q1286.27 1371 1287.4 1371.86 Q1288.53 1372.69 1291.96 1373.46 L1293.42 1373.78 Q1297.96 1374.75 1299.85 1376.54 Q1301.78 1378.3 1301.78 1381.47 Q1301.78 1385.08 1298.9 1387.18 Q1296.06 1389.29 1291.06 1389.29 Q1288.97 1389.29 1286.71 1388.87 Q1284.46 1388.48 1281.96 1387.67 L1281.96 1383.27 Q1284.32 1384.5 1286.61 1385.12 Q1288.9 1385.73 1291.15 1385.73 Q1294.16 1385.73 1295.78 1384.71 Q1297.4 1383.67 1297.4 1381.79 Q1297.4 1380.06 1296.22 1379.13 Q1295.06 1378.2 1291.1 1377.35 L1289.62 1377 Q1285.66 1376.17 1283.9 1374.45 Q1282.15 1372.72 1282.15 1369.71 Q1282.15 1366.05 1284.74 1364.06 Q1287.33 1362.07 1292.1 1362.07 Q1294.46 1362.07 1296.54 1362.42 Q1298.63 1362.76 1300.39 1363.46 Z\" fill=\"#000000\" fill-rule=\"evenodd\" fill-opacity=\"1\" /><path clip-path=\"url(#clip320)\" d=\"M1318.79 1352.65 Q1315.69 1357.97 1314.18 1363.18 Q1312.68 1368.39 1312.68 1373.74 Q1312.68 1379.08 1314.18 1384.34 Q1315.71 1389.57 1318.79 1394.87 L1315.09 1394.87 Q1311.61 1389.43 1309.88 1384.18 Q1308.16 1378.92 1308.16 1373.74 Q1308.16 1368.57 1309.88 1363.34 Q1311.59 1358.11 1315.09 1352.65 L1318.79 1352.65 Z\" fill=\"#000000\" fill-rule=\"evenodd\" fill-opacity=\"1\" /><path clip-path=\"url(#clip320)\" d=\"M1348.6 1362.69 L1339.23 1375.31 L1349.09 1388.62 L1344.07 1388.62 L1336.52 1378.43 L1328.97 1388.62 L1323.95 1388.62 L1334.02 1375.06 L1324.81 1362.69 L1329.83 1362.69 L1336.71 1371.93 L1343.58 1362.69 L1348.6 1362.69 Z\" fill=\"#000000\" fill-rule=\"evenodd\" fill-opacity=\"1\" /><path clip-path=\"url(#clip320)\" d=\"M1354.44 1352.65 L1358.14 1352.65 Q1361.61 1358.11 1363.33 1363.34 Q1365.06 1368.57 1365.06 1373.74 Q1365.06 1378.92 1363.33 1384.18 Q1361.61 1389.43 1358.14 1394.87 L1354.44 1394.87 Q1357.52 1389.57 1359.02 1384.34 Q1360.55 1379.08 1360.55 1373.74 Q1360.55 1368.39 1359.02 1363.18 Q1357.52 1357.97 1354.44 1352.65 Z\" fill=\"#000000\" fill-rule=\"evenodd\" fill-opacity=\"1\" /><polyline clip-path=\"url(#clip320)\" style=\"stroke:#3da44d; stroke-linecap:round; stroke-linejoin:round; stroke-width:12; stroke-opacity:1; fill:none\" stroke-dasharray=\"6, 12\" points=\"\n  1569.29,1371.34 1709,1371.34 \n  \"/>\n<path clip-path=\"url(#clip320)\" d=\"M1750.71 1363.46 L1750.71 1367.49 Q1748.9 1366.56 1746.96 1366.1 Q1745.01 1365.63 1742.93 1365.63 Q1739.76 1365.63 1738.16 1366.61 Q1736.59 1367.58 1736.59 1369.52 Q1736.59 1371 1737.72 1371.86 Q1738.86 1372.69 1742.28 1373.46 L1743.74 1373.78 Q1748.28 1374.75 1750.17 1376.54 Q1752.1 1378.3 1752.1 1381.47 Q1752.1 1385.08 1749.23 1387.18 Q1746.38 1389.29 1741.38 1389.29 Q1739.29 1389.29 1737.03 1388.87 Q1734.78 1388.48 1732.28 1387.67 L1732.28 1383.27 Q1734.64 1384.5 1736.93 1385.12 Q1739.23 1385.73 1741.47 1385.73 Q1744.48 1385.73 1746.1 1384.71 Q1747.72 1383.67 1747.72 1381.79 Q1747.72 1380.06 1746.54 1379.13 Q1745.38 1378.2 1741.42 1377.35 L1739.94 1377 Q1735.98 1376.17 1734.23 1374.45 Q1732.47 1372.72 1732.47 1369.71 Q1732.47 1366.05 1735.06 1364.06 Q1737.65 1362.07 1742.42 1362.07 Q1744.78 1362.07 1746.86 1362.42 Q1748.95 1362.76 1750.71 1363.46 Z\" fill=\"#000000\" fill-rule=\"evenodd\" fill-opacity=\"1\" /><path clip-path=\"url(#clip320)\" d=\"M1758.88 1362.69 L1763.14 1362.69 L1763.14 1388.62 L1758.88 1388.62 L1758.88 1362.69 M1758.88 1352.6 L1763.14 1352.6 L1763.14 1358 L1758.88 1358 L1758.88 1352.6 Z\" fill=\"#000000\" fill-rule=\"evenodd\" fill-opacity=\"1\" /><path clip-path=\"url(#clip320)\" d=\"M1793.6 1372.97 L1793.6 1388.62 L1789.34 1388.62 L1789.34 1373.11 Q1789.34 1369.43 1787.91 1367.6 Q1786.47 1365.77 1783.6 1365.77 Q1780.15 1365.77 1778.16 1367.97 Q1776.17 1370.17 1776.17 1373.97 L1776.17 1388.62 L1771.89 1388.62 L1771.89 1362.69 L1776.17 1362.69 L1776.17 1366.72 Q1777.7 1364.38 1779.76 1363.23 Q1781.84 1362.07 1784.55 1362.07 Q1789.02 1362.07 1791.31 1364.85 Q1793.6 1367.6 1793.6 1372.97 Z\" fill=\"#000000\" fill-rule=\"evenodd\" fill-opacity=\"1\" /><path clip-path=\"url(#clip320)\" d=\"M1812.33 1352.65 Q1809.23 1357.97 1807.72 1363.18 Q1806.22 1368.39 1806.22 1373.74 Q1806.22 1379.08 1807.72 1384.34 Q1809.25 1389.57 1812.33 1394.87 L1808.62 1394.87 Q1805.15 1389.43 1803.41 1384.18 Q1801.7 1378.92 1801.7 1373.74 Q1801.7 1368.57 1803.41 1363.34 Q1805.13 1358.11 1808.62 1352.65 L1812.33 1352.65 Z\" fill=\"#000000\" fill-rule=\"evenodd\" fill-opacity=\"1\" /><path clip-path=\"url(#clip320)\" d=\"M1842.14 1362.69 L1832.77 1375.31 L1842.63 1388.62 L1837.6 1388.62 L1830.06 1378.43 L1822.51 1388.62 L1817.49 1388.62 L1827.56 1375.06 L1818.35 1362.69 L1823.37 1362.69 L1830.24 1371.93 L1837.12 1362.69 L1842.14 1362.69 Z\" fill=\"#000000\" fill-rule=\"evenodd\" fill-opacity=\"1\" /><path clip-path=\"url(#clip320)\" d=\"M1847.97 1352.65 L1851.68 1352.65 Q1855.15 1358.11 1856.86 1363.34 Q1858.6 1368.57 1858.6 1373.74 Q1858.6 1378.92 1856.86 1384.18 Q1855.15 1389.43 1851.68 1394.87 L1847.97 1394.87 Q1851.05 1389.57 1852.56 1384.34 Q1854.09 1379.08 1854.09 1373.74 Q1854.09 1368.39 1852.56 1363.18 Q1851.05 1357.97 1847.97 1352.65 Z\" fill=\"#000000\" fill-rule=\"evenodd\" fill-opacity=\"1\" /><path clip-path=\"url(#clip320)\" d=\"M1884.8 1354.06 L1897.37 1366.95 L1892.72 1366.95 L1882.53 1357.81 L1872.35 1366.95 L1867.7 1366.95 L1880.27 1354.06 L1884.8 1354.06 Z\" fill=\"#000000\" fill-rule=\"evenodd\" fill-opacity=\"1\" /><path clip-path=\"url(#clip320)\" d=\"M1911.49 1384.68 L1927.81 1384.68 L1927.81 1388.62 L1905.87 1388.62 L1905.87 1384.68 Q1908.53 1381.93 1913.11 1377.3 Q1917.72 1372.65 1918.9 1371.31 Q1921.15 1368.78 1922.03 1367.05 Q1922.93 1365.29 1922.93 1363.6 Q1922.93 1360.84 1920.98 1359.11 Q1919.06 1357.37 1915.96 1357.37 Q1913.76 1357.37 1911.31 1358.13 Q1908.88 1358.9 1906.1 1360.45 L1906.1 1355.73 Q1908.92 1354.59 1911.38 1354.01 Q1913.83 1353.43 1915.87 1353.43 Q1921.24 1353.43 1924.43 1356.12 Q1927.63 1358.81 1927.63 1363.3 Q1927.63 1365.43 1926.82 1367.35 Q1926.03 1369.24 1923.92 1371.84 Q1923.34 1372.51 1920.24 1375.73 Q1917.14 1378.92 1911.49 1384.68 Z\" fill=\"#000000\" fill-rule=\"evenodd\" fill-opacity=\"1\" /><path clip-path=\"url(#clip320)\" d=\"M1949.94 1373.74 L1962.42 1373.74 L1962.42 1377.53 L1949.94 1377.53 L1949.94 1373.74 Z\" fill=\"#000000\" fill-rule=\"evenodd\" fill-opacity=\"1\" /><path clip-path=\"url(#clip320)\" d=\"M1985.68 1384.68 L1993.32 1384.68 L1993.32 1358.32 L1985.01 1359.99 L1985.01 1355.73 L1993.28 1354.06 L1997.95 1354.06 L1997.95 1384.68 L2005.59 1384.68 L2005.59 1388.62 L1985.68 1388.62 L1985.68 1384.68 Z\" fill=\"#000000\" fill-rule=\"evenodd\" fill-opacity=\"1\" /><path clip-path=\"url(#clip320)\" d=\"M2022 1354.06 L2025.94 1354.06 L2013.9 1393.02 L2009.96 1393.02 L2022 1354.06 Z\" fill=\"#000000\" fill-rule=\"evenodd\" fill-opacity=\"1\" /><path clip-path=\"url(#clip320)\" d=\"M2035.03 1384.68 L2051.35 1384.68 L2051.35 1388.62 L2029.41 1388.62 L2029.41 1384.68 Q2032.07 1381.93 2036.65 1377.3 Q2041.26 1372.65 2042.44 1371.31 Q2044.69 1368.78 2045.57 1367.05 Q2046.47 1365.29 2046.47 1363.6 Q2046.47 1360.84 2044.52 1359.11 Q2042.6 1357.37 2039.5 1357.37 Q2037.3 1357.37 2034.85 1358.13 Q2032.42 1358.9 2029.64 1360.45 L2029.64 1355.73 Q2032.46 1354.59 2034.92 1354.01 Q2037.37 1353.43 2039.41 1353.43 Q2044.78 1353.43 2047.97 1356.12 Q2051.17 1358.81 2051.17 1363.3 Q2051.17 1365.43 2050.36 1367.35 Q2049.57 1369.24 2047.46 1371.84 Q2046.89 1372.51 2043.78 1375.73 Q2040.68 1378.92 2035.03 1384.68 Z\" fill=\"#000000\" fill-rule=\"evenodd\" fill-opacity=\"1\" /></svg>\n"
     },
     "execution_count": 22,
     "metadata": {},
     "output_type": "execute_result"
    }
   ],
   "source": [
    "using Plots\n",
    "\n",
    "x = range(0, 10, length=100)\n",
    "y1 = sin.(x)\n",
    "y2 = cos.(x)\n",
    "y3 = @. sin(x)^2 - 1/2\n",
    "\n",
    "plot(x, [y1 y2], label=[\"sin(x)\" \"cos(x)\"], lw=[2 1])\n",
    "plot!(x, y3, label=\"sin(x)^2 - 1/2\", lw=3, ls=:dot)\n",
    "plot!(legend=:outerbottom, legendcolumns=3)\n",
    "xlims!(0, 2pi)\n",
    "title!(\"Trigonometric functions\")\n",
    "xlabel!(\"x\")\n",
    "ylabel!(\"y\")"
   ]
  },
  {
   "cell_type": "code",
   "execution_count": 23,
   "metadata": {},
   "outputs": [
    {
     "data": {
      "image/svg+xml": "<?xml version=\"1.0\" encoding=\"utf-8\"?>\n<svg xmlns=\"http://www.w3.org/2000/svg\" xmlns:xlink=\"http://www.w3.org/1999/xlink\" width=\"600\" height=\"400\" viewBox=\"0 0 2400 1600\">\n<defs>\n  <clipPath id=\"clip360\">\n    <rect x=\"0\" y=\"0\" width=\"2400\" height=\"1600\"/>\n  </clipPath>\n</defs>\n<path clip-path=\"url(#clip360)\" d=\"\nM0 1600 L2400 1600 L2400 0 L0 0  Z\n  \" fill=\"#ffffff\" fill-rule=\"evenodd\" fill-opacity=\"1\"/>\n<defs>\n  <clipPath id=\"clip361\">\n    <rect x=\"480\" y=\"0\" width=\"1681\" height=\"1600\"/>\n  </clipPath>\n</defs>\n<path clip-path=\"url(#clip360)\" d=\"\nM192.941 419.781 L2352.76 419.781 L2352.76 47.2441 L192.941 47.2441  Z\n  \" fill=\"#ffffff\" fill-rule=\"evenodd\" fill-opacity=\"1\"/>\n<defs>\n  <clipPath id=\"clip362\">\n    <rect x=\"192\" y=\"47\" width=\"2161\" height=\"374\"/>\n  </clipPath>\n</defs>\n<polyline clip-path=\"url(#clip362)\" style=\"stroke:#000000; stroke-linecap:round; stroke-linejoin:round; stroke-width:2; stroke-opacity:0.1; fill:none\" points=\"\n  254.067,419.781 254.067,47.2441 \n  \"/>\n<polyline clip-path=\"url(#clip362)\" style=\"stroke:#000000; stroke-linecap:round; stroke-linejoin:round; stroke-width:2; stroke-opacity:0.1; fill:none\" points=\"\n  763.458,419.781 763.458,47.2441 \n  \"/>\n<polyline clip-path=\"url(#clip362)\" style=\"stroke:#000000; stroke-linecap:round; stroke-linejoin:round; stroke-width:2; stroke-opacity:0.1; fill:none\" points=\"\n  1272.85,419.781 1272.85,47.2441 \n  \"/>\n<polyline clip-path=\"url(#clip362)\" style=\"stroke:#000000; stroke-linecap:round; stroke-linejoin:round; stroke-width:2; stroke-opacity:0.1; fill:none\" points=\"\n  1782.24,419.781 1782.24,47.2441 \n  \"/>\n<polyline clip-path=\"url(#clip362)\" style=\"stroke:#000000; stroke-linecap:round; stroke-linejoin:round; stroke-width:2; stroke-opacity:0.1; fill:none\" points=\"\n  2291.63,419.781 2291.63,47.2441 \n  \"/>\n<polyline clip-path=\"url(#clip360)\" style=\"stroke:#000000; stroke-linecap:round; stroke-linejoin:round; stroke-width:4; stroke-opacity:1; fill:none\" points=\"\n  192.941,419.781 2352.76,419.781 \n  \"/>\n<polyline clip-path=\"url(#clip360)\" style=\"stroke:#000000; stroke-linecap:round; stroke-linejoin:round; stroke-width:4; stroke-opacity:1; fill:none\" points=\"\n  254.067,419.781 254.067,400.884 \n  \"/>\n<polyline clip-path=\"url(#clip360)\" style=\"stroke:#000000; stroke-linecap:round; stroke-linejoin:round; stroke-width:4; stroke-opacity:1; fill:none\" points=\"\n  763.458,419.781 763.458,400.884 \n  \"/>\n<polyline clip-path=\"url(#clip360)\" style=\"stroke:#000000; stroke-linecap:round; stroke-linejoin:round; stroke-width:4; stroke-opacity:1; fill:none\" points=\"\n  1272.85,419.781 1272.85,400.884 \n  \"/>\n<polyline clip-path=\"url(#clip360)\" style=\"stroke:#000000; stroke-linecap:round; stroke-linejoin:round; stroke-width:4; stroke-opacity:1; fill:none\" points=\"\n  1782.24,419.781 1782.24,400.884 \n  \"/>\n<polyline clip-path=\"url(#clip360)\" style=\"stroke:#000000; stroke-linecap:round; stroke-linejoin:round; stroke-width:4; stroke-opacity:1; fill:none\" points=\"\n  2291.63,419.781 2291.63,400.884 \n  \"/>\n<path clip-path=\"url(#clip360)\" d=\"M231.452 450.7 Q227.841 450.7 226.012 454.265 Q224.207 457.806 224.207 464.936 Q224.207 472.042 226.012 475.607 Q227.841 479.149 231.452 479.149 Q235.086 479.149 236.892 475.607 Q238.72 472.042 238.72 464.936 Q238.72 457.806 236.892 454.265 Q235.086 450.7 231.452 450.7 M231.452 446.996 Q237.262 446.996 240.318 451.603 Q243.396 456.186 243.396 464.936 Q243.396 473.663 240.318 478.269 Q237.262 482.853 231.452 482.853 Q225.642 482.853 222.563 478.269 Q219.507 473.663 219.507 464.936 Q219.507 456.186 222.563 451.603 Q225.642 446.996 231.452 446.996 Z\" fill=\"#000000\" fill-rule=\"evenodd\" fill-opacity=\"1\" /><path clip-path=\"url(#clip360)\" d=\"M251.614 476.302 L256.498 476.302 L256.498 482.181 L251.614 482.181 L251.614 476.302 Z\" fill=\"#000000\" fill-rule=\"evenodd\" fill-opacity=\"1\" /><path clip-path=\"url(#clip360)\" d=\"M276.683 450.7 Q273.072 450.7 271.243 454.265 Q269.438 457.806 269.438 464.936 Q269.438 472.042 271.243 475.607 Q273.072 479.149 276.683 479.149 Q280.317 479.149 282.123 475.607 Q283.952 472.042 283.952 464.936 Q283.952 457.806 282.123 454.265 Q280.317 450.7 276.683 450.7 M276.683 446.996 Q282.493 446.996 285.549 451.603 Q288.627 456.186 288.627 464.936 Q288.627 473.663 285.549 478.269 Q282.493 482.853 276.683 482.853 Q270.873 482.853 267.794 478.269 Q264.739 473.663 264.739 464.936 Q264.739 456.186 267.794 451.603 Q270.873 446.996 276.683 446.996 Z\" fill=\"#000000\" fill-rule=\"evenodd\" fill-opacity=\"1\" /><path clip-path=\"url(#clip360)\" d=\"M735.194 478.246 L751.513 478.246 L751.513 482.181 L729.569 482.181 L729.569 478.246 Q732.231 475.491 736.814 470.862 Q741.421 466.209 742.602 464.866 Q744.847 462.343 745.726 460.607 Q746.629 458.848 746.629 457.158 Q746.629 454.404 744.685 452.667 Q742.764 450.931 739.662 450.931 Q737.463 450.931 735.009 451.695 Q732.578 452.459 729.801 454.01 L729.801 449.288 Q732.625 448.154 735.078 447.575 Q737.532 446.996 739.569 446.996 Q744.939 446.996 748.134 449.681 Q751.328 452.367 751.328 456.857 Q751.328 458.987 750.518 460.908 Q749.731 462.806 747.625 465.399 Q747.046 466.07 743.944 469.288 Q740.842 472.482 735.194 478.246 Z\" fill=\"#000000\" fill-rule=\"evenodd\" fill-opacity=\"1\" /><path clip-path=\"url(#clip360)\" d=\"M761.328 476.302 L766.212 476.302 L766.212 482.181 L761.328 482.181 L761.328 476.302 Z\" fill=\"#000000\" fill-rule=\"evenodd\" fill-opacity=\"1\" /><path clip-path=\"url(#clip360)\" d=\"M776.444 447.621 L794.8 447.621 L794.8 451.556 L780.726 451.556 L780.726 460.029 Q781.745 459.681 782.763 459.519 Q783.782 459.334 784.8 459.334 Q790.587 459.334 793.967 462.505 Q797.347 465.677 797.347 471.093 Q797.347 476.672 793.874 479.774 Q790.402 482.853 784.083 482.853 Q781.907 482.853 779.638 482.482 Q777.393 482.112 774.986 481.371 L774.986 476.672 Q777.069 477.806 779.291 478.362 Q781.513 478.917 783.99 478.917 Q787.995 478.917 790.333 476.811 Q792.671 474.704 792.671 471.093 Q792.671 467.482 790.333 465.376 Q787.995 463.269 783.99 463.269 Q782.115 463.269 780.24 463.686 Q778.388 464.103 776.444 464.982 L776.444 447.621 Z\" fill=\"#000000\" fill-rule=\"evenodd\" fill-opacity=\"1\" /><path clip-path=\"url(#clip360)\" d=\"M1240.01 447.621 L1258.37 447.621 L1258.37 451.556 L1244.3 451.556 L1244.3 460.029 Q1245.31 459.681 1246.33 459.519 Q1247.35 459.334 1248.37 459.334 Q1254.16 459.334 1257.54 462.505 Q1260.92 465.677 1260.92 471.093 Q1260.92 476.672 1257.44 479.774 Q1253.97 482.853 1247.65 482.853 Q1245.48 482.853 1243.21 482.482 Q1240.96 482.112 1238.55 481.371 L1238.55 476.672 Q1240.64 477.806 1242.86 478.362 Q1245.08 478.917 1247.56 478.917 Q1251.56 478.917 1253.9 476.811 Q1256.24 474.704 1256.24 471.093 Q1256.24 467.482 1253.9 465.376 Q1251.56 463.269 1247.56 463.269 Q1245.68 463.269 1243.81 463.686 Q1241.96 464.103 1240.01 464.982 L1240.01 447.621 Z\" fill=\"#000000\" fill-rule=\"evenodd\" fill-opacity=\"1\" /><path clip-path=\"url(#clip360)\" d=\"M1270.13 476.302 L1275.01 476.302 L1275.01 482.181 L1270.13 482.181 L1270.13 476.302 Z\" fill=\"#000000\" fill-rule=\"evenodd\" fill-opacity=\"1\" /><path clip-path=\"url(#clip360)\" d=\"M1295.2 450.7 Q1291.59 450.7 1289.76 454.265 Q1287.95 457.806 1287.95 464.936 Q1287.95 472.042 1289.76 475.607 Q1291.59 479.149 1295.2 479.149 Q1298.83 479.149 1300.64 475.607 Q1302.47 472.042 1302.47 464.936 Q1302.47 457.806 1300.64 454.265 Q1298.83 450.7 1295.2 450.7 M1295.2 446.996 Q1301.01 446.996 1304.06 451.603 Q1307.14 456.186 1307.14 464.936 Q1307.14 473.663 1304.06 478.269 Q1301.01 482.853 1295.2 482.853 Q1289.39 482.853 1286.31 478.269 Q1283.25 473.663 1283.25 464.936 Q1283.25 456.186 1286.31 451.603 Q1289.39 446.996 1295.2 446.996 Z\" fill=\"#000000\" fill-rule=\"evenodd\" fill-opacity=\"1\" /><path clip-path=\"url(#clip360)\" d=\"M1748.56 447.621 L1770.78 447.621 L1770.78 449.612 L1758.23 482.181 L1753.35 482.181 L1765.16 451.556 L1748.56 451.556 L1748.56 447.621 Z\" fill=\"#000000\" fill-rule=\"evenodd\" fill-opacity=\"1\" /><path clip-path=\"url(#clip360)\" d=\"M1779.9 476.302 L1784.78 476.302 L1784.78 482.181 L1779.9 482.181 L1779.9 476.302 Z\" fill=\"#000000\" fill-rule=\"evenodd\" fill-opacity=\"1\" /><path clip-path=\"url(#clip360)\" d=\"M1795.02 447.621 L1813.37 447.621 L1813.37 451.556 L1799.3 451.556 L1799.3 460.029 Q1800.32 459.681 1801.34 459.519 Q1802.35 459.334 1803.37 459.334 Q1809.16 459.334 1812.54 462.505 Q1815.92 465.677 1815.92 471.093 Q1815.92 476.672 1812.45 479.774 Q1808.97 482.853 1802.66 482.853 Q1800.48 482.853 1798.21 482.482 Q1795.97 482.112 1793.56 481.371 L1793.56 476.672 Q1795.64 477.806 1797.86 478.362 Q1800.09 478.917 1802.56 478.917 Q1806.57 478.917 1808.91 476.811 Q1811.24 474.704 1811.24 471.093 Q1811.24 467.482 1808.91 465.376 Q1806.57 463.269 1802.56 463.269 Q1800.69 463.269 1798.81 463.686 Q1796.96 464.103 1795.02 464.982 L1795.02 447.621 Z\" fill=\"#000000\" fill-rule=\"evenodd\" fill-opacity=\"1\" /><path clip-path=\"url(#clip360)\" d=\"M2243.7 478.246 L2251.34 478.246 L2251.34 451.88 L2243.03 453.547 L2243.03 449.288 L2251.29 447.621 L2255.97 447.621 L2255.97 478.246 L2263.61 478.246 L2263.61 482.181 L2243.7 482.181 L2243.7 478.246 Z\" fill=\"#000000\" fill-rule=\"evenodd\" fill-opacity=\"1\" /><path clip-path=\"url(#clip360)\" d=\"M2283.05 450.7 Q2279.44 450.7 2277.61 454.265 Q2275.81 457.806 2275.81 464.936 Q2275.81 472.042 2277.61 475.607 Q2279.44 479.149 2283.05 479.149 Q2286.69 479.149 2288.49 475.607 Q2290.32 472.042 2290.32 464.936 Q2290.32 457.806 2288.49 454.265 Q2286.69 450.7 2283.05 450.7 M2283.05 446.996 Q2288.86 446.996 2291.92 451.603 Q2295 456.186 2295 464.936 Q2295 473.663 2291.92 478.269 Q2288.86 482.853 2283.05 482.853 Q2277.24 482.853 2274.16 478.269 Q2271.11 473.663 2271.11 464.936 Q2271.11 456.186 2274.16 451.603 Q2277.24 446.996 2283.05 446.996 Z\" fill=\"#000000\" fill-rule=\"evenodd\" fill-opacity=\"1\" /><path clip-path=\"url(#clip360)\" d=\"M2303.21 476.302 L2308.1 476.302 L2308.1 482.181 L2303.21 482.181 L2303.21 476.302 Z\" fill=\"#000000\" fill-rule=\"evenodd\" fill-opacity=\"1\" /><path clip-path=\"url(#clip360)\" d=\"M2328.28 450.7 Q2324.67 450.7 2322.84 454.265 Q2321.04 457.806 2321.04 464.936 Q2321.04 472.042 2322.84 475.607 Q2324.67 479.149 2328.28 479.149 Q2331.92 479.149 2333.72 475.607 Q2335.55 472.042 2335.55 464.936 Q2335.55 457.806 2333.72 454.265 Q2331.92 450.7 2328.28 450.7 M2328.28 446.996 Q2334.09 446.996 2337.15 451.603 Q2340.23 456.186 2340.23 464.936 Q2340.23 473.663 2337.15 478.269 Q2334.09 482.853 2328.28 482.853 Q2322.47 482.853 2319.4 478.269 Q2316.34 473.663 2316.34 464.936 Q2316.34 456.186 2319.4 451.603 Q2322.47 446.996 2328.28 446.996 Z\" fill=\"#000000\" fill-rule=\"evenodd\" fill-opacity=\"1\" /><polyline clip-path=\"url(#clip362)\" style=\"stroke:#000000; stroke-linecap:round; stroke-linejoin:round; stroke-width:2; stroke-opacity:0.1; fill:none\" points=\"\n  192.941,332.562 2352.76,332.562 \n  \"/>\n<polyline clip-path=\"url(#clip362)\" style=\"stroke:#000000; stroke-linecap:round; stroke-linejoin:round; stroke-width:2; stroke-opacity:0.1; fill:none\" points=\"\n  192.941,240.97 2352.76,240.97 \n  \"/>\n<polyline clip-path=\"url(#clip362)\" style=\"stroke:#000000; stroke-linecap:round; stroke-linejoin:round; stroke-width:2; stroke-opacity:0.1; fill:none\" points=\"\n  192.941,149.379 2352.76,149.379 \n  \"/>\n<polyline clip-path=\"url(#clip362)\" style=\"stroke:#000000; stroke-linecap:round; stroke-linejoin:round; stroke-width:2; stroke-opacity:0.1; fill:none\" points=\"\n  192.941,57.7876 2352.76,57.7876 \n  \"/>\n<polyline clip-path=\"url(#clip360)\" style=\"stroke:#000000; stroke-linecap:round; stroke-linejoin:round; stroke-width:4; stroke-opacity:1; fill:none\" points=\"\n  192.941,419.781 192.941,47.2441 \n  \"/>\n<polyline clip-path=\"url(#clip360)\" style=\"stroke:#000000; stroke-linecap:round; stroke-linejoin:round; stroke-width:4; stroke-opacity:1; fill:none\" points=\"\n  192.941,332.562 211.838,332.562 \n  \"/>\n<polyline clip-path=\"url(#clip360)\" style=\"stroke:#000000; stroke-linecap:round; stroke-linejoin:round; stroke-width:4; stroke-opacity:1; fill:none\" points=\"\n  192.941,240.97 211.838,240.97 \n  \"/>\n<polyline clip-path=\"url(#clip360)\" style=\"stroke:#000000; stroke-linecap:round; stroke-linejoin:round; stroke-width:4; stroke-opacity:1; fill:none\" points=\"\n  192.941,149.379 211.838,149.379 \n  \"/>\n<polyline clip-path=\"url(#clip360)\" style=\"stroke:#000000; stroke-linecap:round; stroke-linejoin:round; stroke-width:4; stroke-opacity:1; fill:none\" points=\"\n  192.941,57.7876 211.838,57.7876 \n  \"/>\n<path clip-path=\"url(#clip360)\" d=\"M50.9921 333.013 L80.6679 333.013 L80.6679 336.948 L50.9921 336.948 L50.9921 333.013 Z\" fill=\"#000000\" fill-rule=\"evenodd\" fill-opacity=\"1\" /><path clip-path=\"url(#clip360)\" d=\"M100.76 318.36 Q97.1493 318.36 95.3206 321.925 Q93.515 325.467 93.515 332.596 Q93.515 339.703 95.3206 343.268 Q97.1493 346.809 100.76 346.809 Q104.395 346.809 106.2 343.268 Q108.029 339.703 108.029 332.596 Q108.029 325.467 106.2 321.925 Q104.395 318.36 100.76 318.36 M100.76 314.657 Q106.571 314.657 109.626 319.263 Q112.705 323.846 112.705 332.596 Q112.705 341.323 109.626 345.93 Q106.571 350.513 100.76 350.513 Q94.9502 350.513 91.8715 345.93 Q88.816 341.323 88.816 332.596 Q88.816 323.846 91.8715 319.263 Q94.9502 314.657 100.76 314.657 Z\" fill=\"#000000\" fill-rule=\"evenodd\" fill-opacity=\"1\" /><path clip-path=\"url(#clip360)\" d=\"M120.922 343.962 L125.807 343.962 L125.807 349.842 L120.922 349.842 L120.922 343.962 Z\" fill=\"#000000\" fill-rule=\"evenodd\" fill-opacity=\"1\" /><path clip-path=\"url(#clip360)\" d=\"M136.038 315.282 L154.394 315.282 L154.394 319.217 L140.32 319.217 L140.32 327.689 Q141.339 327.342 142.357 327.18 Q143.376 326.995 144.394 326.995 Q150.181 326.995 153.561 330.166 Q156.941 333.337 156.941 338.754 Q156.941 344.332 153.468 347.434 Q149.996 350.513 143.677 350.513 Q141.501 350.513 139.232 350.143 Q136.987 349.772 134.58 349.031 L134.58 344.332 Q136.663 345.467 138.885 346.022 Q141.107 346.578 143.584 346.578 Q147.589 346.578 149.927 344.471 Q152.265 342.365 152.265 338.754 Q152.265 335.143 149.927 333.036 Q147.589 330.93 143.584 330.93 Q141.709 330.93 139.834 331.346 Q137.982 331.763 136.038 332.643 L136.038 315.282 Z\" fill=\"#000000\" fill-rule=\"evenodd\" fill-opacity=\"1\" /><path clip-path=\"url(#clip360)\" d=\"M99.765 226.769 Q96.1539 226.769 94.3252 230.334 Q92.5197 233.875 92.5197 241.005 Q92.5197 248.111 94.3252 251.676 Q96.1539 255.218 99.765 255.218 Q103.399 255.218 105.205 251.676 Q107.033 248.111 107.033 241.005 Q107.033 233.875 105.205 230.334 Q103.399 226.769 99.765 226.769 M99.765 223.065 Q105.575 223.065 108.631 227.672 Q111.709 232.255 111.709 241.005 Q111.709 249.732 108.631 254.338 Q105.575 258.922 99.765 258.922 Q93.9549 258.922 90.8762 254.338 Q87.8206 249.732 87.8206 241.005 Q87.8206 232.255 90.8762 227.672 Q93.9549 223.065 99.765 223.065 Z\" fill=\"#000000\" fill-rule=\"evenodd\" fill-opacity=\"1\" /><path clip-path=\"url(#clip360)\" d=\"M119.927 252.371 L124.811 252.371 L124.811 258.25 L119.927 258.25 L119.927 252.371 Z\" fill=\"#000000\" fill-rule=\"evenodd\" fill-opacity=\"1\" /><path clip-path=\"url(#clip360)\" d=\"M144.996 226.769 Q141.385 226.769 139.556 230.334 Q137.751 233.875 137.751 241.005 Q137.751 248.111 139.556 251.676 Q141.385 255.218 144.996 255.218 Q148.63 255.218 150.436 251.676 Q152.265 248.111 152.265 241.005 Q152.265 233.875 150.436 230.334 Q148.63 226.769 144.996 226.769 M144.996 223.065 Q150.806 223.065 153.862 227.672 Q156.941 232.255 156.941 241.005 Q156.941 249.732 153.862 254.338 Q150.806 258.922 144.996 258.922 Q139.186 258.922 136.107 254.338 Q133.052 249.732 133.052 241.005 Q133.052 232.255 136.107 227.672 Q139.186 223.065 144.996 223.065 Z\" fill=\"#000000\" fill-rule=\"evenodd\" fill-opacity=\"1\" /><path clip-path=\"url(#clip360)\" d=\"M100.76 135.178 Q97.1493 135.178 95.3206 138.742 Q93.515 142.284 93.515 149.414 Q93.515 156.52 95.3206 160.085 Q97.1493 163.627 100.76 163.627 Q104.395 163.627 106.2 160.085 Q108.029 156.52 108.029 149.414 Q108.029 142.284 106.2 138.742 Q104.395 135.178 100.76 135.178 M100.76 131.474 Q106.571 131.474 109.626 136.08 Q112.705 140.664 112.705 149.414 Q112.705 158.14 109.626 162.747 Q106.571 167.33 100.76 167.33 Q94.9502 167.33 91.8715 162.747 Q88.816 158.14 88.816 149.414 Q88.816 140.664 91.8715 136.08 Q94.9502 131.474 100.76 131.474 Z\" fill=\"#000000\" fill-rule=\"evenodd\" fill-opacity=\"1\" /><path clip-path=\"url(#clip360)\" d=\"M120.922 160.779 L125.807 160.779 L125.807 166.659 L120.922 166.659 L120.922 160.779 Z\" fill=\"#000000\" fill-rule=\"evenodd\" fill-opacity=\"1\" /><path clip-path=\"url(#clip360)\" d=\"M136.038 132.099 L154.394 132.099 L154.394 136.034 L140.32 136.034 L140.32 144.506 Q141.339 144.159 142.357 143.997 Q143.376 143.812 144.394 143.812 Q150.181 143.812 153.561 146.983 Q156.941 150.154 156.941 155.571 Q156.941 161.15 153.468 164.252 Q149.996 167.33 143.677 167.33 Q141.501 167.33 139.232 166.96 Q136.987 166.59 134.58 165.849 L134.58 161.15 Q136.663 162.284 138.885 162.84 Q141.107 163.395 143.584 163.395 Q147.589 163.395 149.927 161.289 Q152.265 159.182 152.265 155.571 Q152.265 151.96 149.927 149.853 Q147.589 147.747 143.584 147.747 Q141.709 147.747 139.834 148.164 Q137.982 148.58 136.038 149.46 L136.038 132.099 Z\" fill=\"#000000\" fill-rule=\"evenodd\" fill-opacity=\"1\" /><path clip-path=\"url(#clip360)\" d=\"M90.5752 71.1324 L98.2141 71.1324 L98.2141 44.7668 L89.904 46.4335 L89.904 42.1743 L98.1678 40.5076 L102.844 40.5076 L102.844 71.1324 L110.483 71.1324 L110.483 75.0676 L90.5752 75.0676 L90.5752 71.1324 Z\" fill=\"#000000\" fill-rule=\"evenodd\" fill-opacity=\"1\" /><path clip-path=\"url(#clip360)\" d=\"M119.927 69.188 L124.811 69.188 L124.811 75.0676 L119.927 75.0676 L119.927 69.188 Z\" fill=\"#000000\" fill-rule=\"evenodd\" fill-opacity=\"1\" /><path clip-path=\"url(#clip360)\" d=\"M144.996 43.5863 Q141.385 43.5863 139.556 47.1511 Q137.751 50.6927 137.751 57.8223 Q137.751 64.9288 139.556 68.4936 Q141.385 72.0352 144.996 72.0352 Q148.63 72.0352 150.436 68.4936 Q152.265 64.9288 152.265 57.8223 Q152.265 50.6927 150.436 47.1511 Q148.63 43.5863 144.996 43.5863 M144.996 39.8826 Q150.806 39.8826 153.862 44.4891 Q156.941 49.0724 156.941 57.8223 Q156.941 66.5491 153.862 71.1556 Q150.806 75.7389 144.996 75.7389 Q139.186 75.7389 136.107 71.1556 Q133.052 66.5491 133.052 57.8223 Q133.052 49.0724 136.107 44.4891 Q139.186 39.8826 144.996 39.8826 Z\" fill=\"#000000\" fill-rule=\"evenodd\" fill-opacity=\"1\" /><polyline clip-path=\"url(#clip362)\" style=\"stroke:#009af9; stroke-linecap:round; stroke-linejoin:round; stroke-width:4; stroke-opacity:1; fill:none\" points=\"\n  254.067,57.7876 274.649,74.2302 295.23,116.943 315.812,178.586 336.393,248.949 356.975,316.631 377.556,370.89 398.137,403.339 418.719,409.238 439.3,388.176 \n  459.882,344.053 480.463,284.368 501.045,218.954 521.626,158.36 542.208,112.157 562.789,87.4257 583.37,87.6832 603.952,112.388 624.533,157.111 645.115,214.317 \n  665.696,274.63 686.278,328.368 706.859,367.089 727.44,384.917 748.022,379.426 768.603,351.958 789.185,307.334 809.766,253.016 830.348,197.863 850.929,150.689 \n  871.51,118.861 892.092,107.149 912.673,117.018 933.255,146.463 953.836,190.395 974.418,241.517 994.999,291.529 1015.58,332.475 1036.16,358.006 1056.74,364.356 \n  1077.32,350.896 1097.91,320.17 1118.49,277.425 1139.07,229.719 1159.65,184.761 1180.23,149.67 1200.81,129.845 1221.39,128.143 1241.98,144.474 1262.56,175.872 \n  1283.14,217.026 1303.72,261.177 1324.3,301.221 1344.88,330.854 1365.46,345.555 1386.05,343.279 1406.63,324.727 1427.21,293.186 1447.79,253.946 1468.37,213.421 \n  1488.95,178.101 1509.53,153.516 1530.12,143.374 1550.7,149.004 1571.28,169.192 1591.86,200.426 1612.44,237.503 1633.02,274.392 1653.6,305.212 1674.19,325.167 \n  1694.77,331.292 1715.35,322.886 1735.93,301.581 1756.51,271.033 1777.09,236.3 1797.67,203.007 1818.26,176.436 1838.84,160.691 1859.42,158.067 1880,168.721 \n  1900.58,190.686 1921.16,220.234 1941.74,252.499 1962.33,282.28 1982.91,304.875 2003.49,316.824 2024.07,316.434 2044.65,304.013 2065.23,281.784 2085.81,253.489 \n  2106.4,223.763 2126.98,197.376 2147.56,178.471 2168.14,169.915 2188.72,172.864 2209.3,186.619 2229.88,208.769 2250.47,235.613 2271.05,262.775 2291.63,285.915 \n  \n  \"/>\n<path clip-path=\"url(#clip360)\" d=\"\nM192.941 953.115 L2352.76 953.115 L2352.76 580.577 L192.941 580.577  Z\n  \" fill=\"#ffffff\" fill-rule=\"evenodd\" fill-opacity=\"1\"/>\n<defs>\n  <clipPath id=\"clip363\">\n    <rect x=\"192\" y=\"580\" width=\"2161\" height=\"374\"/>\n  </clipPath>\n</defs>\n<polyline clip-path=\"url(#clip363)\" style=\"stroke:#000000; stroke-linecap:round; stroke-linejoin:round; stroke-width:2; stroke-opacity:0.1; fill:none\" points=\"\n  254.067,953.115 254.067,580.577 \n  \"/>\n<polyline clip-path=\"url(#clip363)\" style=\"stroke:#000000; stroke-linecap:round; stroke-linejoin:round; stroke-width:2; stroke-opacity:0.1; fill:none\" points=\"\n  763.458,953.115 763.458,580.577 \n  \"/>\n<polyline clip-path=\"url(#clip363)\" style=\"stroke:#000000; stroke-linecap:round; stroke-linejoin:round; stroke-width:2; stroke-opacity:0.1; fill:none\" points=\"\n  1272.85,953.115 1272.85,580.577 \n  \"/>\n<polyline clip-path=\"url(#clip363)\" style=\"stroke:#000000; stroke-linecap:round; stroke-linejoin:round; stroke-width:2; stroke-opacity:0.1; fill:none\" points=\"\n  1782.24,953.115 1782.24,580.577 \n  \"/>\n<polyline clip-path=\"url(#clip363)\" style=\"stroke:#000000; stroke-linecap:round; stroke-linejoin:round; stroke-width:2; stroke-opacity:0.1; fill:none\" points=\"\n  2291.63,953.115 2291.63,580.577 \n  \"/>\n<polyline clip-path=\"url(#clip360)\" style=\"stroke:#000000; stroke-linecap:round; stroke-linejoin:round; stroke-width:4; stroke-opacity:1; fill:none\" points=\"\n  192.941,953.115 2352.76,953.115 \n  \"/>\n<polyline clip-path=\"url(#clip360)\" style=\"stroke:#000000; stroke-linecap:round; stroke-linejoin:round; stroke-width:4; stroke-opacity:1; fill:none\" points=\"\n  254.067,953.115 254.067,934.217 \n  \"/>\n<polyline clip-path=\"url(#clip360)\" style=\"stroke:#000000; stroke-linecap:round; stroke-linejoin:round; stroke-width:4; stroke-opacity:1; fill:none\" points=\"\n  763.458,953.115 763.458,934.217 \n  \"/>\n<polyline clip-path=\"url(#clip360)\" style=\"stroke:#000000; stroke-linecap:round; stroke-linejoin:round; stroke-width:4; stroke-opacity:1; fill:none\" points=\"\n  1272.85,953.115 1272.85,934.217 \n  \"/>\n<polyline clip-path=\"url(#clip360)\" style=\"stroke:#000000; stroke-linecap:round; stroke-linejoin:round; stroke-width:4; stroke-opacity:1; fill:none\" points=\"\n  1782.24,953.115 1782.24,934.217 \n  \"/>\n<polyline clip-path=\"url(#clip360)\" style=\"stroke:#000000; stroke-linecap:round; stroke-linejoin:round; stroke-width:4; stroke-opacity:1; fill:none\" points=\"\n  2291.63,953.115 2291.63,934.217 \n  \"/>\n<path clip-path=\"url(#clip360)\" d=\"M231.452 984.033 Q227.841 984.033 226.012 987.598 Q224.207 991.14 224.207 998.269 Q224.207 1005.38 226.012 1008.94 Q227.841 1012.48 231.452 1012.48 Q235.086 1012.48 236.892 1008.94 Q238.72 1005.38 238.72 998.269 Q238.72 991.14 236.892 987.598 Q235.086 984.033 231.452 984.033 M231.452 980.33 Q237.262 980.33 240.318 984.936 Q243.396 989.519 243.396 998.269 Q243.396 1007 240.318 1011.6 Q237.262 1016.19 231.452 1016.19 Q225.642 1016.19 222.563 1011.6 Q219.507 1007 219.507 998.269 Q219.507 989.519 222.563 984.936 Q225.642 980.33 231.452 980.33 Z\" fill=\"#000000\" fill-rule=\"evenodd\" fill-opacity=\"1\" /><path clip-path=\"url(#clip360)\" d=\"M251.614 1009.63 L256.498 1009.63 L256.498 1015.51 L251.614 1015.51 L251.614 1009.63 Z\" fill=\"#000000\" fill-rule=\"evenodd\" fill-opacity=\"1\" /><path clip-path=\"url(#clip360)\" d=\"M276.683 984.033 Q273.072 984.033 271.243 987.598 Q269.438 991.14 269.438 998.269 Q269.438 1005.38 271.243 1008.94 Q273.072 1012.48 276.683 1012.48 Q280.317 1012.48 282.123 1008.94 Q283.952 1005.38 283.952 998.269 Q283.952 991.14 282.123 987.598 Q280.317 984.033 276.683 984.033 M276.683 980.33 Q282.493 980.33 285.549 984.936 Q288.627 989.519 288.627 998.269 Q288.627 1007 285.549 1011.6 Q282.493 1016.19 276.683 1016.19 Q270.873 1016.19 267.794 1011.6 Q264.739 1007 264.739 998.269 Q264.739 989.519 267.794 984.936 Q270.873 980.33 276.683 980.33 Z\" fill=\"#000000\" fill-rule=\"evenodd\" fill-opacity=\"1\" /><path clip-path=\"url(#clip360)\" d=\"M735.194 1011.58 L751.513 1011.58 L751.513 1015.51 L729.569 1015.51 L729.569 1011.58 Q732.231 1008.82 736.814 1004.2 Q741.421 999.542 742.602 998.2 Q744.847 995.677 745.726 993.941 Q746.629 992.181 746.629 990.492 Q746.629 987.737 744.685 986.001 Q742.764 984.265 739.662 984.265 Q737.463 984.265 735.009 985.029 Q732.578 985.792 729.801 987.343 L729.801 982.621 Q732.625 981.487 735.078 980.908 Q737.532 980.33 739.569 980.33 Q744.939 980.33 748.134 983.015 Q751.328 985.7 751.328 990.191 Q751.328 992.32 750.518 994.242 Q749.731 996.14 747.625 998.732 Q747.046 999.404 743.944 1002.62 Q740.842 1005.82 735.194 1011.58 Z\" fill=\"#000000\" fill-rule=\"evenodd\" fill-opacity=\"1\" /><path clip-path=\"url(#clip360)\" d=\"M761.328 1009.63 L766.212 1009.63 L766.212 1015.51 L761.328 1015.51 L761.328 1009.63 Z\" fill=\"#000000\" fill-rule=\"evenodd\" fill-opacity=\"1\" /><path clip-path=\"url(#clip360)\" d=\"M776.444 980.955 L794.8 980.955 L794.8 984.89 L780.726 984.89 L780.726 993.362 Q781.745 993.015 782.763 992.853 Q783.782 992.667 784.8 992.667 Q790.587 992.667 793.967 995.839 Q797.347 999.01 797.347 1004.43 Q797.347 1010.01 793.874 1013.11 Q790.402 1016.19 784.083 1016.19 Q781.907 1016.19 779.638 1015.82 Q777.393 1015.45 774.986 1014.7 L774.986 1010.01 Q777.069 1011.14 779.291 1011.7 Q781.513 1012.25 783.99 1012.25 Q787.995 1012.25 790.333 1010.14 Q792.671 1008.04 792.671 1004.43 Q792.671 1000.82 790.333 998.709 Q787.995 996.603 783.99 996.603 Q782.115 996.603 780.24 997.019 Q778.388 997.436 776.444 998.316 L776.444 980.955 Z\" fill=\"#000000\" fill-rule=\"evenodd\" fill-opacity=\"1\" /><path clip-path=\"url(#clip360)\" d=\"M1240.01 980.955 L1258.37 980.955 L1258.37 984.89 L1244.3 984.89 L1244.3 993.362 Q1245.31 993.015 1246.33 992.853 Q1247.35 992.667 1248.37 992.667 Q1254.16 992.667 1257.54 995.839 Q1260.92 999.01 1260.92 1004.43 Q1260.92 1010.01 1257.44 1013.11 Q1253.97 1016.19 1247.65 1016.19 Q1245.48 1016.19 1243.21 1015.82 Q1240.96 1015.45 1238.55 1014.7 L1238.55 1010.01 Q1240.64 1011.14 1242.86 1011.7 Q1245.08 1012.25 1247.56 1012.25 Q1251.56 1012.25 1253.9 1010.14 Q1256.24 1008.04 1256.24 1004.43 Q1256.24 1000.82 1253.9 998.709 Q1251.56 996.603 1247.56 996.603 Q1245.68 996.603 1243.81 997.019 Q1241.96 997.436 1240.01 998.316 L1240.01 980.955 Z\" fill=\"#000000\" fill-rule=\"evenodd\" fill-opacity=\"1\" /><path clip-path=\"url(#clip360)\" d=\"M1270.13 1009.63 L1275.01 1009.63 L1275.01 1015.51 L1270.13 1015.51 L1270.13 1009.63 Z\" fill=\"#000000\" fill-rule=\"evenodd\" fill-opacity=\"1\" /><path clip-path=\"url(#clip360)\" d=\"M1295.2 984.033 Q1291.59 984.033 1289.76 987.598 Q1287.95 991.14 1287.95 998.269 Q1287.95 1005.38 1289.76 1008.94 Q1291.59 1012.48 1295.2 1012.48 Q1298.83 1012.48 1300.64 1008.94 Q1302.47 1005.38 1302.47 998.269 Q1302.47 991.14 1300.64 987.598 Q1298.83 984.033 1295.2 984.033 M1295.2 980.33 Q1301.01 980.33 1304.06 984.936 Q1307.14 989.519 1307.14 998.269 Q1307.14 1007 1304.06 1011.6 Q1301.01 1016.19 1295.2 1016.19 Q1289.39 1016.19 1286.31 1011.6 Q1283.25 1007 1283.25 998.269 Q1283.25 989.519 1286.31 984.936 Q1289.39 980.33 1295.2 980.33 Z\" fill=\"#000000\" fill-rule=\"evenodd\" fill-opacity=\"1\" /><path clip-path=\"url(#clip360)\" d=\"M1748.56 980.955 L1770.78 980.955 L1770.78 982.945 L1758.23 1015.51 L1753.35 1015.51 L1765.16 984.89 L1748.56 984.89 L1748.56 980.955 Z\" fill=\"#000000\" fill-rule=\"evenodd\" fill-opacity=\"1\" /><path clip-path=\"url(#clip360)\" d=\"M1779.9 1009.63 L1784.78 1009.63 L1784.78 1015.51 L1779.9 1015.51 L1779.9 1009.63 Z\" fill=\"#000000\" fill-rule=\"evenodd\" fill-opacity=\"1\" /><path clip-path=\"url(#clip360)\" d=\"M1795.02 980.955 L1813.37 980.955 L1813.37 984.89 L1799.3 984.89 L1799.3 993.362 Q1800.32 993.015 1801.34 992.853 Q1802.35 992.667 1803.37 992.667 Q1809.16 992.667 1812.54 995.839 Q1815.92 999.01 1815.92 1004.43 Q1815.92 1010.01 1812.45 1013.11 Q1808.97 1016.19 1802.66 1016.19 Q1800.48 1016.19 1798.21 1015.82 Q1795.97 1015.45 1793.56 1014.7 L1793.56 1010.01 Q1795.64 1011.14 1797.86 1011.7 Q1800.09 1012.25 1802.56 1012.25 Q1806.57 1012.25 1808.91 1010.14 Q1811.24 1008.04 1811.24 1004.43 Q1811.24 1000.82 1808.91 998.709 Q1806.57 996.603 1802.56 996.603 Q1800.69 996.603 1798.81 997.019 Q1796.96 997.436 1795.02 998.316 L1795.02 980.955 Z\" fill=\"#000000\" fill-rule=\"evenodd\" fill-opacity=\"1\" /><path clip-path=\"url(#clip360)\" d=\"M2243.7 1011.58 L2251.34 1011.58 L2251.34 985.214 L2243.03 986.88 L2243.03 982.621 L2251.29 980.955 L2255.97 980.955 L2255.97 1011.58 L2263.61 1011.58 L2263.61 1015.51 L2243.7 1015.51 L2243.7 1011.58 Z\" fill=\"#000000\" fill-rule=\"evenodd\" fill-opacity=\"1\" /><path clip-path=\"url(#clip360)\" d=\"M2283.05 984.033 Q2279.44 984.033 2277.61 987.598 Q2275.81 991.14 2275.81 998.269 Q2275.81 1005.38 2277.61 1008.94 Q2279.44 1012.48 2283.05 1012.48 Q2286.69 1012.48 2288.49 1008.94 Q2290.32 1005.38 2290.32 998.269 Q2290.32 991.14 2288.49 987.598 Q2286.69 984.033 2283.05 984.033 M2283.05 980.33 Q2288.86 980.33 2291.92 984.936 Q2295 989.519 2295 998.269 Q2295 1007 2291.92 1011.6 Q2288.86 1016.19 2283.05 1016.19 Q2277.24 1016.19 2274.16 1011.6 Q2271.11 1007 2271.11 998.269 Q2271.11 989.519 2274.16 984.936 Q2277.24 980.33 2283.05 980.33 Z\" fill=\"#000000\" fill-rule=\"evenodd\" fill-opacity=\"1\" /><path clip-path=\"url(#clip360)\" d=\"M2303.21 1009.63 L2308.1 1009.63 L2308.1 1015.51 L2303.21 1015.51 L2303.21 1009.63 Z\" fill=\"#000000\" fill-rule=\"evenodd\" fill-opacity=\"1\" /><path clip-path=\"url(#clip360)\" d=\"M2328.28 984.033 Q2324.67 984.033 2322.84 987.598 Q2321.04 991.14 2321.04 998.269 Q2321.04 1005.38 2322.84 1008.94 Q2324.67 1012.48 2328.28 1012.48 Q2331.92 1012.48 2333.72 1008.94 Q2335.55 1005.38 2335.55 998.269 Q2335.55 991.14 2333.72 987.598 Q2331.92 984.033 2328.28 984.033 M2328.28 980.33 Q2334.09 980.33 2337.15 984.936 Q2340.23 989.519 2340.23 998.269 Q2340.23 1007 2337.15 1011.6 Q2334.09 1016.19 2328.28 1016.19 Q2322.47 1016.19 2319.4 1011.6 Q2316.34 1007 2316.34 998.269 Q2316.34 989.519 2319.4 984.936 Q2322.47 980.33 2328.28 980.33 Z\" fill=\"#000000\" fill-rule=\"evenodd\" fill-opacity=\"1\" /><polyline clip-path=\"url(#clip363)\" style=\"stroke:#000000; stroke-linecap:round; stroke-linejoin:round; stroke-width:2; stroke-opacity:0.1; fill:none\" points=\"\n  192.941,887.038 2352.76,887.038 \n  \"/>\n<polyline clip-path=\"url(#clip363)\" style=\"stroke:#000000; stroke-linecap:round; stroke-linejoin:round; stroke-width:2; stroke-opacity:0.1; fill:none\" points=\"\n  192.941,788.399 2352.76,788.399 \n  \"/>\n<polyline clip-path=\"url(#clip363)\" style=\"stroke:#000000; stroke-linecap:round; stroke-linejoin:round; stroke-width:2; stroke-opacity:0.1; fill:none\" points=\"\n  192.941,689.76 2352.76,689.76 \n  \"/>\n<polyline clip-path=\"url(#clip363)\" style=\"stroke:#000000; stroke-linecap:round; stroke-linejoin:round; stroke-width:2; stroke-opacity:0.1; fill:none\" points=\"\n  192.941,591.121 2352.76,591.121 \n  \"/>\n<polyline clip-path=\"url(#clip360)\" style=\"stroke:#000000; stroke-linecap:round; stroke-linejoin:round; stroke-width:4; stroke-opacity:1; fill:none\" points=\"\n  192.941,953.115 192.941,580.577 \n  \"/>\n<polyline clip-path=\"url(#clip360)\" style=\"stroke:#000000; stroke-linecap:round; stroke-linejoin:round; stroke-width:4; stroke-opacity:1; fill:none\" points=\"\n  192.941,887.038 211.838,887.038 \n  \"/>\n<polyline clip-path=\"url(#clip360)\" style=\"stroke:#000000; stroke-linecap:round; stroke-linejoin:round; stroke-width:4; stroke-opacity:1; fill:none\" points=\"\n  192.941,788.399 211.838,788.399 \n  \"/>\n<polyline clip-path=\"url(#clip360)\" style=\"stroke:#000000; stroke-linecap:round; stroke-linejoin:round; stroke-width:4; stroke-opacity:1; fill:none\" points=\"\n  192.941,689.76 211.838,689.76 \n  \"/>\n<polyline clip-path=\"url(#clip360)\" style=\"stroke:#000000; stroke-linecap:round; stroke-linejoin:round; stroke-width:4; stroke-opacity:1; fill:none\" points=\"\n  192.941,591.121 211.838,591.121 \n  \"/>\n<path clip-path=\"url(#clip360)\" d=\"M50.9921 887.49 L80.6679 887.49 L80.6679 891.425 L50.9921 891.425 L50.9921 887.49 Z\" fill=\"#000000\" fill-rule=\"evenodd\" fill-opacity=\"1\" /><path clip-path=\"url(#clip360)\" d=\"M100.76 872.837 Q97.1493 872.837 95.3206 876.402 Q93.515 879.943 93.515 887.073 Q93.515 894.179 95.3206 897.744 Q97.1493 901.286 100.76 901.286 Q104.395 901.286 106.2 897.744 Q108.029 894.179 108.029 887.073 Q108.029 879.943 106.2 876.402 Q104.395 872.837 100.76 872.837 M100.76 869.133 Q106.571 869.133 109.626 873.74 Q112.705 878.323 112.705 887.073 Q112.705 895.8 109.626 900.406 Q106.571 904.989 100.76 904.989 Q94.9502 904.989 91.8715 900.406 Q88.816 895.8 88.816 887.073 Q88.816 878.323 91.8715 873.74 Q94.9502 869.133 100.76 869.133 Z\" fill=\"#000000\" fill-rule=\"evenodd\" fill-opacity=\"1\" /><path clip-path=\"url(#clip360)\" d=\"M120.922 898.439 L125.807 898.439 L125.807 904.318 L120.922 904.318 L120.922 898.439 Z\" fill=\"#000000\" fill-rule=\"evenodd\" fill-opacity=\"1\" /><path clip-path=\"url(#clip360)\" d=\"M136.038 869.758 L154.394 869.758 L154.394 873.693 L140.32 873.693 L140.32 882.165 Q141.339 881.818 142.357 881.656 Q143.376 881.471 144.394 881.471 Q150.181 881.471 153.561 884.642 Q156.941 887.814 156.941 893.23 Q156.941 898.809 153.468 901.911 Q149.996 904.989 143.677 904.989 Q141.501 904.989 139.232 904.619 Q136.987 904.249 134.58 903.508 L134.58 898.809 Q136.663 899.943 138.885 900.499 Q141.107 901.054 143.584 901.054 Q147.589 901.054 149.927 898.948 Q152.265 896.841 152.265 893.23 Q152.265 889.619 149.927 887.513 Q147.589 885.406 143.584 885.406 Q141.709 885.406 139.834 885.823 Q137.982 886.24 136.038 887.119 L136.038 869.758 Z\" fill=\"#000000\" fill-rule=\"evenodd\" fill-opacity=\"1\" /><path clip-path=\"url(#clip360)\" d=\"M99.765 774.198 Q96.1539 774.198 94.3252 777.763 Q92.5197 781.304 92.5197 788.434 Q92.5197 795.54 94.3252 799.105 Q96.1539 802.647 99.765 802.647 Q103.399 802.647 105.205 799.105 Q107.033 795.54 107.033 788.434 Q107.033 781.304 105.205 777.763 Q103.399 774.198 99.765 774.198 M99.765 770.494 Q105.575 770.494 108.631 775.101 Q111.709 779.684 111.709 788.434 Q111.709 797.161 108.631 801.767 Q105.575 806.35 99.765 806.35 Q93.9549 806.35 90.8762 801.767 Q87.8206 797.161 87.8206 788.434 Q87.8206 779.684 90.8762 775.101 Q93.9549 770.494 99.765 770.494 Z\" fill=\"#000000\" fill-rule=\"evenodd\" fill-opacity=\"1\" /><path clip-path=\"url(#clip360)\" d=\"M119.927 799.799 L124.811 799.799 L124.811 805.679 L119.927 805.679 L119.927 799.799 Z\" fill=\"#000000\" fill-rule=\"evenodd\" fill-opacity=\"1\" /><path clip-path=\"url(#clip360)\" d=\"M144.996 774.198 Q141.385 774.198 139.556 777.763 Q137.751 781.304 137.751 788.434 Q137.751 795.54 139.556 799.105 Q141.385 802.647 144.996 802.647 Q148.63 802.647 150.436 799.105 Q152.265 795.54 152.265 788.434 Q152.265 781.304 150.436 777.763 Q148.63 774.198 144.996 774.198 M144.996 770.494 Q150.806 770.494 153.862 775.101 Q156.941 779.684 156.941 788.434 Q156.941 797.161 153.862 801.767 Q150.806 806.35 144.996 806.35 Q139.186 806.35 136.107 801.767 Q133.052 797.161 133.052 788.434 Q133.052 779.684 136.107 775.101 Q139.186 770.494 144.996 770.494 Z\" fill=\"#000000\" fill-rule=\"evenodd\" fill-opacity=\"1\" /><path clip-path=\"url(#clip360)\" d=\"M100.76 675.559 Q97.1493 675.559 95.3206 679.123 Q93.515 682.665 93.515 689.795 Q93.515 696.901 95.3206 700.466 Q97.1493 704.008 100.76 704.008 Q104.395 704.008 106.2 700.466 Q108.029 696.901 108.029 689.795 Q108.029 682.665 106.2 679.123 Q104.395 675.559 100.76 675.559 M100.76 671.855 Q106.571 671.855 109.626 676.461 Q112.705 681.045 112.705 689.795 Q112.705 698.522 109.626 703.128 Q106.571 707.711 100.76 707.711 Q94.9502 707.711 91.8715 703.128 Q88.816 698.522 88.816 689.795 Q88.816 681.045 91.8715 676.461 Q94.9502 671.855 100.76 671.855 Z\" fill=\"#000000\" fill-rule=\"evenodd\" fill-opacity=\"1\" /><path clip-path=\"url(#clip360)\" d=\"M120.922 701.16 L125.807 701.16 L125.807 707.04 L120.922 707.04 L120.922 701.16 Z\" fill=\"#000000\" fill-rule=\"evenodd\" fill-opacity=\"1\" /><path clip-path=\"url(#clip360)\" d=\"M136.038 672.48 L154.394 672.48 L154.394 676.415 L140.32 676.415 L140.32 684.887 Q141.339 684.54 142.357 684.378 Q143.376 684.193 144.394 684.193 Q150.181 684.193 153.561 687.364 Q156.941 690.535 156.941 695.952 Q156.941 701.531 153.468 704.633 Q149.996 707.711 143.677 707.711 Q141.501 707.711 139.232 707.341 Q136.987 706.971 134.58 706.23 L134.58 701.531 Q136.663 702.665 138.885 703.221 Q141.107 703.776 143.584 703.776 Q147.589 703.776 149.927 701.67 Q152.265 699.563 152.265 695.952 Q152.265 692.341 149.927 690.235 Q147.589 688.128 143.584 688.128 Q141.709 688.128 139.834 688.545 Q137.982 688.961 136.038 689.841 L136.038 672.48 Z\" fill=\"#000000\" fill-rule=\"evenodd\" fill-opacity=\"1\" /><path clip-path=\"url(#clip360)\" d=\"M90.5752 604.466 L98.2141 604.466 L98.2141 578.1 L89.904 579.767 L89.904 575.508 L98.1678 573.841 L102.844 573.841 L102.844 604.466 L110.483 604.466 L110.483 608.401 L90.5752 608.401 L90.5752 604.466 Z\" fill=\"#000000\" fill-rule=\"evenodd\" fill-opacity=\"1\" /><path clip-path=\"url(#clip360)\" d=\"M119.927 602.521 L124.811 602.521 L124.811 608.401 L119.927 608.401 L119.927 602.521 Z\" fill=\"#000000\" fill-rule=\"evenodd\" fill-opacity=\"1\" /><path clip-path=\"url(#clip360)\" d=\"M144.996 576.92 Q141.385 576.92 139.556 580.484 Q137.751 584.026 137.751 591.156 Q137.751 598.262 139.556 601.827 Q141.385 605.369 144.996 605.369 Q148.63 605.369 150.436 601.827 Q152.265 598.262 152.265 591.156 Q152.265 584.026 150.436 580.484 Q148.63 576.92 144.996 576.92 M144.996 573.216 Q150.806 573.216 153.862 577.822 Q156.941 582.406 156.941 591.156 Q156.941 599.882 153.862 604.489 Q150.806 609.072 144.996 609.072 Q139.186 609.072 136.107 604.489 Q133.052 599.882 133.052 591.156 Q133.052 582.406 136.107 577.822 Q139.186 573.216 144.996 573.216 Z\" fill=\"#000000\" fill-rule=\"evenodd\" fill-opacity=\"1\" /><polyline clip-path=\"url(#clip363)\" style=\"stroke:#009af9; stroke-linecap:round; stroke-linejoin:round; stroke-width:4; stroke-opacity:1; fill:none\" points=\"\n  254.067,591.121 274.649,612.42 295.23,660.117 315.812,725.166 336.393,796.324 356.975,862.053 377.556,912.344 398.137,940.203 418.719,942.571 439.3,920.576 \n  459.882,879.106 480.463,825.823 501.045,769.793 521.626,719.981 542.208,683.849 562.789,666.268 583.37,668.912 603.952,690.174 624.533,725.619 645.115,768.844 \n  665.696,812.6 686.278,849.98 706.859,875.486 727.44,885.809 748.022,880.219 768.603,860.531 789.185,830.667 809.766,795.918 830.348,762.031 850.929,734.279 \n  871.51,716.664 892.092,711.355 912.673,718.464 933.255,736.144 953.836,760.994 974.418,788.689 994.999,814.71 1015.58,835.066 1036.16,846.893 1056.74,848.834 \n  1077.32,841.165 1097.91,825.655 1118.49,805.205 1139.07,783.316 1159.65,763.513 1180.23,748.785 1200.81,741.147 1221.39,741.383 1241.98,748.992 1262.56,762.346 \n  1283.14,779.008 1303.72,796.166 1324.3,811.094 1344.88,821.579 1365.46,826.233 1386.05,824.67 1406.63,817.499 1427.21,806.178 1447.79,792.729 1468.37,779.39 \n  1488.95,768.252 1509.53,760.934 1530.12,758.362 1550.7,760.66 1571.28,767.182 1591.86,776.654 1612.44,787.415 1633.02,797.697 1653.6,805.914 1674.19,810.895 \n  1694.77,812.049 1715.35,809.419 1735.93,803.641 1756.51,795.808 1777.09,787.271 1797.67,779.414 1818.26,773.43 1838.84,770.15 1859.42,769.931 1880,772.626 \n  1900.58,777.641 1921.16,784.051 1941.74,790.768 1962.33,796.717 1982.91,801.01 2003.49,803.068 2024.07,802.701 2044.65,800.108 2065.23,795.828 2085.81,790.632 \n  2106.4,785.391 2126.98,780.931 2147.56,777.906 2168.14,776.708 2188.72,777.418 2209.3,779.811 2229.88,783.413 2250.47,787.586 2271.05,791.642 2291.63,794.95 \n  \n  \"/>\n<path clip-path=\"url(#clip360)\" d=\"\nM192.941 1486.45 L2352.76 1486.45 L2352.76 1113.91 L192.941 1113.91  Z\n  \" fill=\"#ffffff\" fill-rule=\"evenodd\" fill-opacity=\"1\"/>\n<defs>\n  <clipPath id=\"clip364\">\n    <rect x=\"192\" y=\"1113\" width=\"2161\" height=\"374\"/>\n  </clipPath>\n</defs>\n<polyline clip-path=\"url(#clip364)\" style=\"stroke:#000000; stroke-linecap:round; stroke-linejoin:round; stroke-width:2; stroke-opacity:0.1; fill:none\" points=\"\n  254.067,1486.45 254.067,1113.91 \n  \"/>\n<polyline clip-path=\"url(#clip364)\" style=\"stroke:#000000; stroke-linecap:round; stroke-linejoin:round; stroke-width:2; stroke-opacity:0.1; fill:none\" points=\"\n  763.458,1486.45 763.458,1113.91 \n  \"/>\n<polyline clip-path=\"url(#clip364)\" style=\"stroke:#000000; stroke-linecap:round; stroke-linejoin:round; stroke-width:2; stroke-opacity:0.1; fill:none\" points=\"\n  1272.85,1486.45 1272.85,1113.91 \n  \"/>\n<polyline clip-path=\"url(#clip364)\" style=\"stroke:#000000; stroke-linecap:round; stroke-linejoin:round; stroke-width:2; stroke-opacity:0.1; fill:none\" points=\"\n  1782.24,1486.45 1782.24,1113.91 \n  \"/>\n<polyline clip-path=\"url(#clip364)\" style=\"stroke:#000000; stroke-linecap:round; stroke-linejoin:round; stroke-width:2; stroke-opacity:0.1; fill:none\" points=\"\n  2291.63,1486.45 2291.63,1113.91 \n  \"/>\n<polyline clip-path=\"url(#clip360)\" style=\"stroke:#000000; stroke-linecap:round; stroke-linejoin:round; stroke-width:4; stroke-opacity:1; fill:none\" points=\"\n  192.941,1486.45 2352.76,1486.45 \n  \"/>\n<polyline clip-path=\"url(#clip360)\" style=\"stroke:#000000; stroke-linecap:round; stroke-linejoin:round; stroke-width:4; stroke-opacity:1; fill:none\" points=\"\n  254.067,1486.45 254.067,1467.55 \n  \"/>\n<polyline clip-path=\"url(#clip360)\" style=\"stroke:#000000; stroke-linecap:round; stroke-linejoin:round; stroke-width:4; stroke-opacity:1; fill:none\" points=\"\n  763.458,1486.45 763.458,1467.55 \n  \"/>\n<polyline clip-path=\"url(#clip360)\" style=\"stroke:#000000; stroke-linecap:round; stroke-linejoin:round; stroke-width:4; stroke-opacity:1; fill:none\" points=\"\n  1272.85,1486.45 1272.85,1467.55 \n  \"/>\n<polyline clip-path=\"url(#clip360)\" style=\"stroke:#000000; stroke-linecap:round; stroke-linejoin:round; stroke-width:4; stroke-opacity:1; fill:none\" points=\"\n  1782.24,1486.45 1782.24,1467.55 \n  \"/>\n<polyline clip-path=\"url(#clip360)\" style=\"stroke:#000000; stroke-linecap:round; stroke-linejoin:round; stroke-width:4; stroke-opacity:1; fill:none\" points=\"\n  2291.63,1486.45 2291.63,1467.55 \n  \"/>\n<path clip-path=\"url(#clip360)\" d=\"M231.452 1517.37 Q227.841 1517.37 226.012 1520.93 Q224.207 1524.47 224.207 1531.6 Q224.207 1538.71 226.012 1542.27 Q227.841 1545.82 231.452 1545.82 Q235.086 1545.82 236.892 1542.27 Q238.72 1538.71 238.72 1531.6 Q238.72 1524.47 236.892 1520.93 Q235.086 1517.37 231.452 1517.37 M231.452 1513.66 Q237.262 1513.66 240.318 1518.27 Q243.396 1522.85 243.396 1531.6 Q243.396 1540.33 240.318 1544.94 Q237.262 1549.52 231.452 1549.52 Q225.642 1549.52 222.563 1544.94 Q219.507 1540.33 219.507 1531.6 Q219.507 1522.85 222.563 1518.27 Q225.642 1513.66 231.452 1513.66 Z\" fill=\"#000000\" fill-rule=\"evenodd\" fill-opacity=\"1\" /><path clip-path=\"url(#clip360)\" d=\"M251.614 1542.97 L256.498 1542.97 L256.498 1548.85 L251.614 1548.85 L251.614 1542.97 Z\" fill=\"#000000\" fill-rule=\"evenodd\" fill-opacity=\"1\" /><path clip-path=\"url(#clip360)\" d=\"M276.683 1517.37 Q273.072 1517.37 271.243 1520.93 Q269.438 1524.47 269.438 1531.6 Q269.438 1538.71 271.243 1542.27 Q273.072 1545.82 276.683 1545.82 Q280.317 1545.82 282.123 1542.27 Q283.952 1538.71 283.952 1531.6 Q283.952 1524.47 282.123 1520.93 Q280.317 1517.37 276.683 1517.37 M276.683 1513.66 Q282.493 1513.66 285.549 1518.27 Q288.627 1522.85 288.627 1531.6 Q288.627 1540.33 285.549 1544.94 Q282.493 1549.52 276.683 1549.52 Q270.873 1549.52 267.794 1544.94 Q264.739 1540.33 264.739 1531.6 Q264.739 1522.85 267.794 1518.27 Q270.873 1513.66 276.683 1513.66 Z\" fill=\"#000000\" fill-rule=\"evenodd\" fill-opacity=\"1\" /><path clip-path=\"url(#clip360)\" d=\"M735.194 1544.91 L751.513 1544.91 L751.513 1548.85 L729.569 1548.85 L729.569 1544.91 Q732.231 1542.16 736.814 1537.53 Q741.421 1532.88 742.602 1531.53 Q744.847 1529.01 745.726 1527.27 Q746.629 1525.51 746.629 1523.82 Q746.629 1521.07 744.685 1519.33 Q742.764 1517.6 739.662 1517.6 Q737.463 1517.6 735.009 1518.36 Q732.578 1519.13 729.801 1520.68 L729.801 1515.95 Q732.625 1514.82 735.078 1514.24 Q737.532 1513.66 739.569 1513.66 Q744.939 1513.66 748.134 1516.35 Q751.328 1519.03 751.328 1523.52 Q751.328 1525.65 750.518 1527.57 Q749.731 1529.47 747.625 1532.07 Q747.046 1532.74 743.944 1535.95 Q740.842 1539.15 735.194 1544.91 Z\" fill=\"#000000\" fill-rule=\"evenodd\" fill-opacity=\"1\" /><path clip-path=\"url(#clip360)\" d=\"M761.328 1542.97 L766.212 1542.97 L766.212 1548.85 L761.328 1548.85 L761.328 1542.97 Z\" fill=\"#000000\" fill-rule=\"evenodd\" fill-opacity=\"1\" /><path clip-path=\"url(#clip360)\" d=\"M776.444 1514.29 L794.8 1514.29 L794.8 1518.22 L780.726 1518.22 L780.726 1526.7 Q781.745 1526.35 782.763 1526.19 Q783.782 1526 784.8 1526 Q790.587 1526 793.967 1529.17 Q797.347 1532.34 797.347 1537.76 Q797.347 1543.34 793.874 1546.44 Q790.402 1549.52 784.083 1549.52 Q781.907 1549.52 779.638 1549.15 Q777.393 1548.78 774.986 1548.04 L774.986 1543.34 Q777.069 1544.47 779.291 1545.03 Q781.513 1545.58 783.99 1545.58 Q787.995 1545.58 790.333 1543.48 Q792.671 1541.37 792.671 1537.76 Q792.671 1534.15 790.333 1532.04 Q787.995 1529.94 783.99 1529.94 Q782.115 1529.94 780.24 1530.35 Q778.388 1530.77 776.444 1531.65 L776.444 1514.29 Z\" fill=\"#000000\" fill-rule=\"evenodd\" fill-opacity=\"1\" /><path clip-path=\"url(#clip360)\" d=\"M1240.01 1514.29 L1258.37 1514.29 L1258.37 1518.22 L1244.3 1518.22 L1244.3 1526.7 Q1245.31 1526.35 1246.33 1526.19 Q1247.35 1526 1248.37 1526 Q1254.16 1526 1257.54 1529.17 Q1260.92 1532.34 1260.92 1537.76 Q1260.92 1543.34 1257.44 1546.44 Q1253.97 1549.52 1247.65 1549.52 Q1245.48 1549.52 1243.21 1549.15 Q1240.96 1548.78 1238.55 1548.04 L1238.55 1543.34 Q1240.64 1544.47 1242.86 1545.03 Q1245.08 1545.58 1247.56 1545.58 Q1251.56 1545.58 1253.9 1543.48 Q1256.24 1541.37 1256.24 1537.76 Q1256.24 1534.15 1253.9 1532.04 Q1251.56 1529.94 1247.56 1529.94 Q1245.68 1529.94 1243.81 1530.35 Q1241.96 1530.77 1240.01 1531.65 L1240.01 1514.29 Z\" fill=\"#000000\" fill-rule=\"evenodd\" fill-opacity=\"1\" /><path clip-path=\"url(#clip360)\" d=\"M1270.13 1542.97 L1275.01 1542.97 L1275.01 1548.85 L1270.13 1548.85 L1270.13 1542.97 Z\" fill=\"#000000\" fill-rule=\"evenodd\" fill-opacity=\"1\" /><path clip-path=\"url(#clip360)\" d=\"M1295.2 1517.37 Q1291.59 1517.37 1289.76 1520.93 Q1287.95 1524.47 1287.95 1531.6 Q1287.95 1538.71 1289.76 1542.27 Q1291.59 1545.82 1295.2 1545.82 Q1298.83 1545.82 1300.64 1542.27 Q1302.47 1538.71 1302.47 1531.6 Q1302.47 1524.47 1300.64 1520.93 Q1298.83 1517.37 1295.2 1517.37 M1295.2 1513.66 Q1301.01 1513.66 1304.06 1518.27 Q1307.14 1522.85 1307.14 1531.6 Q1307.14 1540.33 1304.06 1544.94 Q1301.01 1549.52 1295.2 1549.52 Q1289.39 1549.52 1286.31 1544.94 Q1283.25 1540.33 1283.25 1531.6 Q1283.25 1522.85 1286.31 1518.27 Q1289.39 1513.66 1295.2 1513.66 Z\" fill=\"#000000\" fill-rule=\"evenodd\" fill-opacity=\"1\" /><path clip-path=\"url(#clip360)\" d=\"M1748.56 1514.29 L1770.78 1514.29 L1770.78 1516.28 L1758.23 1548.85 L1753.35 1548.85 L1765.16 1518.22 L1748.56 1518.22 L1748.56 1514.29 Z\" fill=\"#000000\" fill-rule=\"evenodd\" fill-opacity=\"1\" /><path clip-path=\"url(#clip360)\" d=\"M1779.9 1542.97 L1784.78 1542.97 L1784.78 1548.85 L1779.9 1548.85 L1779.9 1542.97 Z\" fill=\"#000000\" fill-rule=\"evenodd\" fill-opacity=\"1\" /><path clip-path=\"url(#clip360)\" d=\"M1795.02 1514.29 L1813.37 1514.29 L1813.37 1518.22 L1799.3 1518.22 L1799.3 1526.7 Q1800.32 1526.35 1801.34 1526.19 Q1802.35 1526 1803.37 1526 Q1809.16 1526 1812.54 1529.17 Q1815.92 1532.34 1815.92 1537.76 Q1815.92 1543.34 1812.45 1546.44 Q1808.97 1549.52 1802.66 1549.52 Q1800.48 1549.52 1798.21 1549.15 Q1795.97 1548.78 1793.56 1548.04 L1793.56 1543.34 Q1795.64 1544.47 1797.86 1545.03 Q1800.09 1545.58 1802.56 1545.58 Q1806.57 1545.58 1808.91 1543.48 Q1811.24 1541.37 1811.24 1537.76 Q1811.24 1534.15 1808.91 1532.04 Q1806.57 1529.94 1802.56 1529.94 Q1800.69 1529.94 1798.81 1530.35 Q1796.96 1530.77 1795.02 1531.65 L1795.02 1514.29 Z\" fill=\"#000000\" fill-rule=\"evenodd\" fill-opacity=\"1\" /><path clip-path=\"url(#clip360)\" d=\"M2243.7 1544.91 L2251.34 1544.91 L2251.34 1518.55 L2243.03 1520.21 L2243.03 1515.95 L2251.29 1514.29 L2255.97 1514.29 L2255.97 1544.91 L2263.61 1544.91 L2263.61 1548.85 L2243.7 1548.85 L2243.7 1544.91 Z\" fill=\"#000000\" fill-rule=\"evenodd\" fill-opacity=\"1\" /><path clip-path=\"url(#clip360)\" d=\"M2283.05 1517.37 Q2279.44 1517.37 2277.61 1520.93 Q2275.81 1524.47 2275.81 1531.6 Q2275.81 1538.71 2277.61 1542.27 Q2279.44 1545.82 2283.05 1545.82 Q2286.69 1545.82 2288.49 1542.27 Q2290.32 1538.71 2290.32 1531.6 Q2290.32 1524.47 2288.49 1520.93 Q2286.69 1517.37 2283.05 1517.37 M2283.05 1513.66 Q2288.86 1513.66 2291.92 1518.27 Q2295 1522.85 2295 1531.6 Q2295 1540.33 2291.92 1544.94 Q2288.86 1549.52 2283.05 1549.52 Q2277.24 1549.52 2274.16 1544.94 Q2271.11 1540.33 2271.11 1531.6 Q2271.11 1522.85 2274.16 1518.27 Q2277.24 1513.66 2283.05 1513.66 Z\" fill=\"#000000\" fill-rule=\"evenodd\" fill-opacity=\"1\" /><path clip-path=\"url(#clip360)\" d=\"M2303.21 1542.97 L2308.1 1542.97 L2308.1 1548.85 L2303.21 1548.85 L2303.21 1542.97 Z\" fill=\"#000000\" fill-rule=\"evenodd\" fill-opacity=\"1\" /><path clip-path=\"url(#clip360)\" d=\"M2328.28 1517.37 Q2324.67 1517.37 2322.84 1520.93 Q2321.04 1524.47 2321.04 1531.6 Q2321.04 1538.71 2322.84 1542.27 Q2324.67 1545.82 2328.28 1545.82 Q2331.92 1545.82 2333.72 1542.27 Q2335.55 1538.71 2335.55 1531.6 Q2335.55 1524.47 2333.72 1520.93 Q2331.92 1517.37 2328.28 1517.37 M2328.28 1513.66 Q2334.09 1513.66 2337.15 1518.27 Q2340.23 1522.85 2340.23 1531.6 Q2340.23 1540.33 2337.15 1544.94 Q2334.09 1549.52 2328.28 1549.52 Q2322.47 1549.52 2319.4 1544.94 Q2316.34 1540.33 2316.34 1531.6 Q2316.34 1522.85 2319.4 1518.27 Q2322.47 1513.66 2328.28 1513.66 Z\" fill=\"#000000\" fill-rule=\"evenodd\" fill-opacity=\"1\" /><polyline clip-path=\"url(#clip364)\" style=\"stroke:#000000; stroke-linecap:round; stroke-linejoin:round; stroke-width:2; stroke-opacity:0.1; fill:none\" points=\"\n  192.941,1440.5 2352.76,1440.5 \n  \"/>\n<polyline clip-path=\"url(#clip364)\" style=\"stroke:#000000; stroke-linecap:round; stroke-linejoin:round; stroke-width:2; stroke-opacity:0.1; fill:none\" points=\"\n  192.941,1335.15 2352.76,1335.15 \n  \"/>\n<polyline clip-path=\"url(#clip364)\" style=\"stroke:#000000; stroke-linecap:round; stroke-linejoin:round; stroke-width:2; stroke-opacity:0.1; fill:none\" points=\"\n  192.941,1229.8 2352.76,1229.8 \n  \"/>\n<polyline clip-path=\"url(#clip364)\" style=\"stroke:#000000; stroke-linecap:round; stroke-linejoin:round; stroke-width:2; stroke-opacity:0.1; fill:none\" points=\"\n  192.941,1124.45 2352.76,1124.45 \n  \"/>\n<polyline clip-path=\"url(#clip360)\" style=\"stroke:#000000; stroke-linecap:round; stroke-linejoin:round; stroke-width:4; stroke-opacity:1; fill:none\" points=\"\n  192.941,1486.45 192.941,1113.91 \n  \"/>\n<polyline clip-path=\"url(#clip360)\" style=\"stroke:#000000; stroke-linecap:round; stroke-linejoin:round; stroke-width:4; stroke-opacity:1; fill:none\" points=\"\n  192.941,1440.5 211.838,1440.5 \n  \"/>\n<polyline clip-path=\"url(#clip360)\" style=\"stroke:#000000; stroke-linecap:round; stroke-linejoin:round; stroke-width:4; stroke-opacity:1; fill:none\" points=\"\n  192.941,1335.15 211.838,1335.15 \n  \"/>\n<polyline clip-path=\"url(#clip360)\" style=\"stroke:#000000; stroke-linecap:round; stroke-linejoin:round; stroke-width:4; stroke-opacity:1; fill:none\" points=\"\n  192.941,1229.8 211.838,1229.8 \n  \"/>\n<polyline clip-path=\"url(#clip360)\" style=\"stroke:#000000; stroke-linecap:round; stroke-linejoin:round; stroke-width:4; stroke-opacity:1; fill:none\" points=\"\n  192.941,1124.45 211.838,1124.45 \n  \"/>\n<path clip-path=\"url(#clip360)\" d=\"M50.9921 1440.95 L80.6679 1440.95 L80.6679 1444.89 L50.9921 1444.89 L50.9921 1440.95 Z\" fill=\"#000000\" fill-rule=\"evenodd\" fill-opacity=\"1\" /><path clip-path=\"url(#clip360)\" d=\"M100.76 1426.3 Q97.1493 1426.3 95.3206 1429.87 Q93.515 1433.41 93.515 1440.54 Q93.515 1447.64 95.3206 1451.21 Q97.1493 1454.75 100.76 1454.75 Q104.395 1454.75 106.2 1451.21 Q108.029 1447.64 108.029 1440.54 Q108.029 1433.41 106.2 1429.87 Q104.395 1426.3 100.76 1426.3 M100.76 1422.6 Q106.571 1422.6 109.626 1427.2 Q112.705 1431.79 112.705 1440.54 Q112.705 1449.26 109.626 1453.87 Q106.571 1458.45 100.76 1458.45 Q94.9502 1458.45 91.8715 1453.87 Q88.816 1449.26 88.816 1440.54 Q88.816 1431.79 91.8715 1427.2 Q94.9502 1422.6 100.76 1422.6 Z\" fill=\"#000000\" fill-rule=\"evenodd\" fill-opacity=\"1\" /><path clip-path=\"url(#clip360)\" d=\"M120.922 1451.9 L125.807 1451.9 L125.807 1457.78 L120.922 1457.78 L120.922 1451.9 Z\" fill=\"#000000\" fill-rule=\"evenodd\" fill-opacity=\"1\" /><path clip-path=\"url(#clip360)\" d=\"M136.038 1423.22 L154.394 1423.22 L154.394 1427.16 L140.32 1427.16 L140.32 1435.63 Q141.339 1435.28 142.357 1435.12 Q143.376 1434.94 144.394 1434.94 Q150.181 1434.94 153.561 1438.11 Q156.941 1441.28 156.941 1446.7 Q156.941 1452.27 153.468 1455.38 Q149.996 1458.45 143.677 1458.45 Q141.501 1458.45 139.232 1458.08 Q136.987 1457.71 134.58 1456.97 L134.58 1452.27 Q136.663 1453.41 138.885 1453.96 Q141.107 1454.52 143.584 1454.52 Q147.589 1454.52 149.927 1452.41 Q152.265 1450.31 152.265 1446.7 Q152.265 1443.08 149.927 1440.98 Q147.589 1438.87 143.584 1438.87 Q141.709 1438.87 139.834 1439.29 Q137.982 1439.7 136.038 1440.58 L136.038 1423.22 Z\" fill=\"#000000\" fill-rule=\"evenodd\" fill-opacity=\"1\" /><path clip-path=\"url(#clip360)\" d=\"M99.765 1320.95 Q96.1539 1320.95 94.3252 1324.52 Q92.5197 1328.06 92.5197 1335.19 Q92.5197 1342.29 94.3252 1345.86 Q96.1539 1349.4 99.765 1349.4 Q103.399 1349.4 105.205 1345.86 Q107.033 1342.29 107.033 1335.19 Q107.033 1328.06 105.205 1324.52 Q103.399 1320.95 99.765 1320.95 M99.765 1317.25 Q105.575 1317.25 108.631 1321.86 Q111.709 1326.44 111.709 1335.19 Q111.709 1343.92 108.631 1348.52 Q105.575 1353.1 99.765 1353.1 Q93.9549 1353.1 90.8762 1348.52 Q87.8206 1343.92 87.8206 1335.19 Q87.8206 1326.44 90.8762 1321.86 Q93.9549 1317.25 99.765 1317.25 Z\" fill=\"#000000\" fill-rule=\"evenodd\" fill-opacity=\"1\" /><path clip-path=\"url(#clip360)\" d=\"M119.927 1346.55 L124.811 1346.55 L124.811 1352.43 L119.927 1352.43 L119.927 1346.55 Z\" fill=\"#000000\" fill-rule=\"evenodd\" fill-opacity=\"1\" /><path clip-path=\"url(#clip360)\" d=\"M144.996 1320.95 Q141.385 1320.95 139.556 1324.52 Q137.751 1328.06 137.751 1335.19 Q137.751 1342.29 139.556 1345.86 Q141.385 1349.4 144.996 1349.4 Q148.63 1349.4 150.436 1345.86 Q152.265 1342.29 152.265 1335.19 Q152.265 1328.06 150.436 1324.52 Q148.63 1320.95 144.996 1320.95 M144.996 1317.25 Q150.806 1317.25 153.862 1321.86 Q156.941 1326.44 156.941 1335.19 Q156.941 1343.92 153.862 1348.52 Q150.806 1353.1 144.996 1353.1 Q139.186 1353.1 136.107 1348.52 Q133.052 1343.92 133.052 1335.19 Q133.052 1326.44 136.107 1321.86 Q139.186 1317.25 144.996 1317.25 Z\" fill=\"#000000\" fill-rule=\"evenodd\" fill-opacity=\"1\" /><path clip-path=\"url(#clip360)\" d=\"M100.76 1215.6 Q97.1493 1215.6 95.3206 1219.17 Q93.515 1222.71 93.515 1229.84 Q93.515 1236.95 95.3206 1240.51 Q97.1493 1244.05 100.76 1244.05 Q104.395 1244.05 106.2 1240.51 Q108.029 1236.95 108.029 1229.84 Q108.029 1222.71 106.2 1219.17 Q104.395 1215.6 100.76 1215.6 M100.76 1211.9 Q106.571 1211.9 109.626 1216.51 Q112.705 1221.09 112.705 1229.84 Q112.705 1238.57 109.626 1243.17 Q106.571 1247.76 100.76 1247.76 Q94.9502 1247.76 91.8715 1243.17 Q88.816 1238.57 88.816 1229.84 Q88.816 1221.09 91.8715 1216.51 Q94.9502 1211.9 100.76 1211.9 Z\" fill=\"#000000\" fill-rule=\"evenodd\" fill-opacity=\"1\" /><path clip-path=\"url(#clip360)\" d=\"M120.922 1241.2 L125.807 1241.2 L125.807 1247.08 L120.922 1247.08 L120.922 1241.2 Z\" fill=\"#000000\" fill-rule=\"evenodd\" fill-opacity=\"1\" /><path clip-path=\"url(#clip360)\" d=\"M136.038 1212.52 L154.394 1212.52 L154.394 1216.46 L140.32 1216.46 L140.32 1224.93 Q141.339 1224.58 142.357 1224.42 Q143.376 1224.24 144.394 1224.24 Q150.181 1224.24 153.561 1227.41 Q156.941 1230.58 156.941 1236 Q156.941 1241.57 153.468 1244.68 Q149.996 1247.76 143.677 1247.76 Q141.501 1247.76 139.232 1247.38 Q136.987 1247.01 134.58 1246.27 L134.58 1241.57 Q136.663 1242.71 138.885 1243.26 Q141.107 1243.82 143.584 1243.82 Q147.589 1243.82 149.927 1241.71 Q152.265 1239.61 152.265 1236 Q152.265 1232.38 149.927 1230.28 Q147.589 1228.17 143.584 1228.17 Q141.709 1228.17 139.834 1228.59 Q137.982 1229.01 136.038 1229.88 L136.038 1212.52 Z\" fill=\"#000000\" fill-rule=\"evenodd\" fill-opacity=\"1\" /><path clip-path=\"url(#clip360)\" d=\"M90.5752 1137.8 L98.2141 1137.8 L98.2141 1111.43 L89.904 1113.1 L89.904 1108.84 L98.1678 1107.17 L102.844 1107.17 L102.844 1137.8 L110.483 1137.8 L110.483 1141.73 L90.5752 1141.73 L90.5752 1137.8 Z\" fill=\"#000000\" fill-rule=\"evenodd\" fill-opacity=\"1\" /><path clip-path=\"url(#clip360)\" d=\"M119.927 1135.85 L124.811 1135.85 L124.811 1141.73 L119.927 1141.73 L119.927 1135.85 Z\" fill=\"#000000\" fill-rule=\"evenodd\" fill-opacity=\"1\" /><path clip-path=\"url(#clip360)\" d=\"M144.996 1110.25 Q141.385 1110.25 139.556 1113.82 Q137.751 1117.36 137.751 1124.49 Q137.751 1131.6 139.556 1135.16 Q141.385 1138.7 144.996 1138.7 Q148.63 1138.7 150.436 1135.16 Q152.265 1131.6 152.265 1124.49 Q152.265 1117.36 150.436 1113.82 Q148.63 1110.25 144.996 1110.25 M144.996 1106.55 Q150.806 1106.55 153.862 1111.16 Q156.941 1115.74 156.941 1124.49 Q156.941 1133.22 153.862 1137.82 Q150.806 1142.41 144.996 1142.41 Q139.186 1142.41 136.107 1137.82 Q133.052 1133.22 133.052 1124.49 Q133.052 1115.74 136.107 1111.16 Q139.186 1106.55 144.996 1106.55 Z\" fill=\"#000000\" fill-rule=\"evenodd\" fill-opacity=\"1\" /><polyline clip-path=\"url(#clip364)\" style=\"stroke:#009af9; stroke-linecap:round; stroke-linejoin:round; stroke-width:4; stroke-opacity:1; fill:none\" points=\"\n  254.067,1124.45 274.649,1150.96 295.23,1203.57 315.812,1271.59 336.393,1342.96 356.975,1406.26 377.556,1452.42 398.137,1475.9 418.719,1475.24 439.3,1452.85 \n  459.882,1414.31 480.463,1367.16 501.045,1319.56 521.626,1278.96 542.208,1251 562.789,1238.81 583.37,1242.78 603.952,1260.74 624.533,1288.54 645.115,1320.93 \n  665.696,1352.41 686.278,1378.19 706.859,1394.79 727.44,1400.53 748.022,1395.54 768.603,1381.64 789.185,1361.85 809.766,1339.81 830.348,1319.16 850.929,1302.98 \n  871.51,1293.36 892.092,1291.17 912.673,1296.02 933.255,1306.5 953.836,1320.43 974.418,1335.31 994.999,1348.73 1015.58,1358.76 1036.16,1364.15 1056.74,1364.51 \n  1077.32,1360.27 1097.91,1352.53 1118.49,1342.84 1139.07,1332.88 1159.65,1324.23 1180.23,1318.11 1200.81,1315.23 1221.39,1315.72 1241.98,1319.19 1262.56,1324.81 \n  1283.14,1331.5 1303.72,1338.11 1324.3,1343.63 1344.88,1347.3 1365.46,1348.73 1386.05,1347.91 1406.63,1345.18 1427.21,1341.16 1447.79,1336.59 1468.37,1332.23 \n  1488.95,1328.75 1509.53,1326.6 1530.12,1325.99 1550.7,1326.86 1571.28,1328.93 1591.86,1331.78 1612.44,1334.88 1633.02,1337.72 1653.6,1339.89 1674.19,1341.11 \n  1694.77,1341.29 1715.35,1340.5 1735.93,1338.95 1756.51,1336.96 1777.09,1334.88 1797.67,1333.04 1818.26,1331.71 1838.84,1331.04 1859.42,1331.07 1880,1331.74 \n  1900.58,1332.87 1921.16,1334.25 1941.74,1335.64 1962.33,1336.81 1982.91,1337.62 2003.49,1337.97 2024.07,1337.84 2044.65,1337.31 2065.23,1336.49 2085.81,1335.55 \n  2106.4,1334.63 2126.98,1333.88 2147.56,1333.41 2168.14,1333.25 2188.72,1333.4 2209.3,1333.81 2229.88,1334.39 2250.47,1335.03 2271.05,1335.63 2291.63,1336.1 \n  \n  \"/>\n</svg>\n"
     },
     "execution_count": 23,
     "metadata": {},
     "output_type": "execute_result"
    }
   ],
   "source": [
    "x = range(0, 10, length=100)\n",
    "y1 = @. exp(-0.1x) * cos(4x)\n",
    "y2 = @. exp(-0.3x) * cos(4x)\n",
    "y3 = @. exp(-0.5x) * cos(4x)\n",
    "plot(x, [y1 y2 y3], layout=(3, 1), legend=false)"
   ]
  },
  {
   "cell_type": "markdown",
   "metadata": {
    "slideshow": {
     "slide_type": "slide"
    }
   },
   "source": [
    "## Runtime comparisons with Pyhton"
   ]
  },
  {
   "cell_type": "markdown",
   "metadata": {},
   "source": [
    "### BFS"
   ]
  },
  {
   "cell_type": "code",
   "execution_count": 24,
   "metadata": {},
   "outputs": [],
   "source": [
    "function BFS(graph, start, target)\n",
    "    queue = [start]\n",
    "    visited = Set([start])\n",
    "    while !isempty(queue)\n",
    "        node = popfirst!(queue)\n",
    "        if node == target\n",
    "            return true\n",
    "        end\n",
    "        for neighbor in graph[node]\n",
    "            if !(neighbor in visited)\n",
    "                push!(queue, neighbor)\n",
    "                push!(visited, neighbor)\n",
    "            end\n",
    "        end\n",
    "    end\n",
    "    return false\n",
    "end\n",
    "\n",
    "# read graph\n",
    "graph_path = \"./demos/graph.gd\"\n",
    "input_as_txt = read(graph_path, String)\n",
    "lines = split(input_as_txt, \"\\r\\n\")\n",
    "\n",
    "graph = Dict{Int, Array{Int}}(i => [] for i in 1:2000)\n",
    "\n",
    "for l in lines[2:end]\n",
    "    from, to, _ = split(l)\n",
    "    from  = parse(Int, from)\n",
    "    to = parse(Int, to)\n",
    "    \n",
    "    push!(graph[from], to)\n",
    "end"
   ]
  },
  {
   "cell_type": "code",
   "execution_count": 26,
   "metadata": {},
   "outputs": [
    {
     "name": "stdout",
     "output_type": "stream",
     "text": [
      "  0.001152 seconds (7.29 k allocations: 216.562 KiB)\n"
     ]
    },
    {
     "data": {
      "text/plain": [
       "true"
      ]
     },
     "execution_count": 26,
     "metadata": {},
     "output_type": "execute_result"
    }
   ],
   "source": [
    "# time function\n",
    "@time BFS(graph, 1, 1970) "
   ]
  },
  {
   "cell_type": "markdown",
   "metadata": {},
   "source": [
    "### Summing 100 million numbers\n",
    "\n",
    "https://github.com/JuliaAcademy/Introduction-to-Julia/blob/main/9%20-%20Julia%20is%20fast.ipynb"
   ]
  },
  {
   "attachments": {},
   "cell_type": "markdown",
   "metadata": {
    "slideshow": {
     "slide_type": "slide"
    }
   },
   "source": [
    "## AoC examples\n",
    "\n",
    "My solutions: \n",
    "\n",
    "DataFrame example: https://github.com/kovacsb1/julia_advent_of_code/blob/master/day4.jl\n",
    "\n",
    "https://github.com/kovacsb1/julia_advent_of_code/blob/master/day14.jl"
   ]
  },
  {
   "cell_type": "markdown",
   "metadata": {},
   "source": [
    "### Day 7 - File system trees"
   ]
  },
  {
   "cell_type": "code",
   "execution_count": null,
   "metadata": {},
   "outputs": [],
   "source": [
    "fpath = \"./advent_of_code/inputs/input_day7.txt\" \n",
    "L = readlines(fpath)\n",
    "dir = Vector{String}()\n",
    "dir_size = Dict{Vector{String},Int}()\n",
    "for l∈L\n",
    "    if l==\"\\$ cd /\"\n",
    "        empty!(dir)\n",
    "    elseif l==\"\\$ cd ..\"\n",
    "        dir = dir[1:end-1]\n",
    "    elseif l[1:4]==\"\\$ cd\"\n",
    "        push!(dir,l[6:end])\n",
    "    elseif isnumeric(l[1])\n",
    "        s = parse(Int,first(split(l)))\n",
    "        for n∈0:length(dir)\n",
    "            dir_size[dir[1:n]] = get(dir_size,dir[1:n],0)+s\n",
    "        end\n",
    "    end\n",
    "end\n",
    "sizes = collect(values(dir_size))\n",
    "p1 = sum(sizes[sizes.<1e5])\n",
    "p2 = minimum(sizes[sizes.>maximum(sizes)-4e7])\n",
    "println((p1,p2))"
   ]
  },
  {
   "cell_type": "markdown",
   "metadata": {},
   "source": [
    "### Day 13 - List comparisons"
   ]
  },
  {
   "cell_type": "code",
   "execution_count": null,
   "metadata": {},
   "outputs": [],
   "source": [
    "import JSON\n",
    "Base.isless(l::Vector, r::Int) = l < [r]\n",
    "Base.isless(l::Int, r::Vector) = [l] <= r\n",
    "\n",
    "fpath = \"./advent_of_code/inputs/input_day13.txt\"\n",
    "packets = JSON.parse.(filter(!isempty,readlines(fpath)))\n",
    "p1 = sum(findall(packets[1:2:end].<packets[2:2:end]))\n",
    "p2 = prod(invperm(sortperm([[[2]]; [[6]]; packets]))[1:2])\n",
    "println((p1,p2))"
   ]
  },
  {
   "cell_type": "markdown",
   "metadata": {},
   "source": [
    "### Day 25 - summation in 5-base arithmetic"
   ]
  },
  {
   "cell_type": "code",
   "execution_count": 27,
   "metadata": {},
   "outputs": [
    {
     "name": "stdout",
     "output_type": "stream",
     "text": [
      "0000000121=2=1==0=10=2-20=2\n"
     ]
    }
   ],
   "source": [
    "D = \"=-012\"\n",
    "decode(s) = isempty(s) ? (return 0) : findfirst(s[end],D)-3+5*decode(s[1:end-1])\n",
    "encode(n;d=27) = map(x->D[x-'0'+1], string(n+(5^d-1)>>1,base=5))\n",
    "    \n",
    "fpath = \"./advent_of_code/inputs/input_day25.txt\" \n",
    "\n",
    "# chain function calls with pipes\n",
    "fpath |> readlines .|> decode |> sum |> encode |> println"
   ]
  },
  {
   "attachments": {},
   "cell_type": "markdown",
   "metadata": {
    "slideshow": {
     "slide_type": "slide"
    }
   },
   "source": [
    "## Why use Julia?\n"
   ]
  },
  {
   "attachments": {},
   "cell_type": "markdown",
   "metadata": {},
   "source": [
    "* learning curve is relatively steep\n",
    "* it is generally faster than Python for scientific computations\n",
    "* does not have an end-to-end framework for app development\n",
    "* great plotting functions\n",
    "* Julia allows you to call Python, C, and Fortran libraries directly. \n",
    "* 24th on TIOBE index"
   ]
  },
  {
   "cell_type": "markdown",
   "metadata": {
    "slideshow": {
     "slide_type": "slide"
    }
   },
   "source": [
    "## How to start with Julia?\n",
    "\n",
    "Julia website contains a lot of learning materials: https://julialang.org/learning/"
   ]
  },
  {
   "cell_type": "code",
   "execution_count": null,
   "metadata": {},
   "outputs": [],
   "source": []
  }
 ],
 "metadata": {
  "celltoolbar": "Slideshow",
  "kernelspec": {
   "display_name": "Julia 1.8.3",
   "language": "julia",
   "name": "julia-1.8"
  },
  "language_info": {
   "file_extension": ".jl",
   "mimetype": "application/julia",
   "name": "julia",
   "version": "1.8.3"
  }
 },
 "nbformat": 4,
 "nbformat_minor": 2
}
